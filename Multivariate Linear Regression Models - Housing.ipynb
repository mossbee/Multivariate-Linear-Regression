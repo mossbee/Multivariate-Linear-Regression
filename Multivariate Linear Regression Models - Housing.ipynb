{
  "cells": [
    {
      "cell_type": "markdown",
      "source": [
        "# $\\Huge{\\text{Hồi quy tuyến tính đa biến}}$"
      ],
      "metadata": {
        "id": "9oaJ2dC64pnv"
      }
    },
    {
      "cell_type": "markdown",
      "metadata": {
        "id": "JSGClbekyseO"
      },
      "source": [
        "# 0. Khởi tạo ban đầu"
      ]
    },
    {
      "cell_type": "code",
      "execution_count": null,
      "metadata": {
        "colab": {
          "base_uri": "https://localhost:8080/"
        },
        "id": "c2phsl9L3j5I",
        "outputId": "00f525c0-4407-4155-beeb-de7d06836b7c"
      },
      "outputs": [
        {
          "output_type": "stream",
          "name": "stdout",
          "text": [
            "Drive already mounted at /content/drive; to attempt to forcibly remount, call drive.mount(\"/content/drive\", force_remount=True).\n"
          ]
        }
      ],
      "source": [
        "import matplotlib.pyplot as plt\n",
        "import statsmodels.api   as sm\n",
        "import pandas            as pd\n",
        "import seaborn           as sns\n",
        "import numpy             as np\n",
        "import scipy\n",
        "import math\n",
        "\n",
        "import warnings\n",
        "warnings.filterwarnings('ignore')\n",
        "\n",
        "from google.colab import drive\n",
        "drive.mount('/content/drive')\n",
        "\n",
        "np.set_printoptions(suppress=True)"
      ]
    },
    {
      "cell_type": "markdown",
      "metadata": {
        "id": "0OM2wYcGlrFY"
      },
      "source": [
        "# 1. Đọc dữ liệu từ Drive\n",
        "Dữ liệu giá nhà [lấy từ Kaggle](https://www.kaggle.com/ashydv/housing-dataset)"
      ]
    },
    {
      "cell_type": "code",
      "execution_count": null,
      "metadata": {
        "colab": {
          "base_uri": "https://localhost:8080/"
        },
        "id": "8S0uL00-4nnJ",
        "outputId": "631fc35a-a4f7-4999-d53d-2bc158d874b3"
      },
      "outputs": [
        {
          "output_type": "execute_result",
          "data": {
            "text/plain": [
              "      price  area  bedrooms  bathrooms  stories mainroad guestroom basement  \\\n",
              "0  13300000  7420         4          2        3      yes        no       no   \n",
              "1  12250000  8960         4          4        4      yes        no       no   \n",
              "2  12250000  9960         3          2        2      yes        no      yes   \n",
              "3  12215000  7500         4          2        2      yes        no      yes   \n",
              "4  11410000  7420         4          1        2      yes       yes      yes   \n",
              "\n",
              "  hotwaterheating airconditioning  parking prefarea furnishingstatus  \n",
              "0              no             yes        2      yes        furnished  \n",
              "1              no             yes        3       no        furnished  \n",
              "2              no              no        2      yes   semi-furnished  \n",
              "3              no             yes        3      yes        furnished  \n",
              "4              no             yes        2       no        furnished  "
            ],
            "text/html": [
              "\n",
              "  <div id=\"df-8a31be9c-d3ca-4b1e-aba5-0932b533cce6\">\n",
              "    <div class=\"colab-df-container\">\n",
              "      <div>\n",
              "<style scoped>\n",
              "    .dataframe tbody tr th:only-of-type {\n",
              "        vertical-align: middle;\n",
              "    }\n",
              "\n",
              "    .dataframe tbody tr th {\n",
              "        vertical-align: top;\n",
              "    }\n",
              "\n",
              "    .dataframe thead th {\n",
              "        text-align: right;\n",
              "    }\n",
              "</style>\n",
              "<table border=\"1\" class=\"dataframe\">\n",
              "  <thead>\n",
              "    <tr style=\"text-align: right;\">\n",
              "      <th></th>\n",
              "      <th>price</th>\n",
              "      <th>area</th>\n",
              "      <th>bedrooms</th>\n",
              "      <th>bathrooms</th>\n",
              "      <th>stories</th>\n",
              "      <th>mainroad</th>\n",
              "      <th>guestroom</th>\n",
              "      <th>basement</th>\n",
              "      <th>hotwaterheating</th>\n",
              "      <th>airconditioning</th>\n",
              "      <th>parking</th>\n",
              "      <th>prefarea</th>\n",
              "      <th>furnishingstatus</th>\n",
              "    </tr>\n",
              "  </thead>\n",
              "  <tbody>\n",
              "    <tr>\n",
              "      <th>0</th>\n",
              "      <td>13300000</td>\n",
              "      <td>7420</td>\n",
              "      <td>4</td>\n",
              "      <td>2</td>\n",
              "      <td>3</td>\n",
              "      <td>yes</td>\n",
              "      <td>no</td>\n",
              "      <td>no</td>\n",
              "      <td>no</td>\n",
              "      <td>yes</td>\n",
              "      <td>2</td>\n",
              "      <td>yes</td>\n",
              "      <td>furnished</td>\n",
              "    </tr>\n",
              "    <tr>\n",
              "      <th>1</th>\n",
              "      <td>12250000</td>\n",
              "      <td>8960</td>\n",
              "      <td>4</td>\n",
              "      <td>4</td>\n",
              "      <td>4</td>\n",
              "      <td>yes</td>\n",
              "      <td>no</td>\n",
              "      <td>no</td>\n",
              "      <td>no</td>\n",
              "      <td>yes</td>\n",
              "      <td>3</td>\n",
              "      <td>no</td>\n",
              "      <td>furnished</td>\n",
              "    </tr>\n",
              "    <tr>\n",
              "      <th>2</th>\n",
              "      <td>12250000</td>\n",
              "      <td>9960</td>\n",
              "      <td>3</td>\n",
              "      <td>2</td>\n",
              "      <td>2</td>\n",
              "      <td>yes</td>\n",
              "      <td>no</td>\n",
              "      <td>yes</td>\n",
              "      <td>no</td>\n",
              "      <td>no</td>\n",
              "      <td>2</td>\n",
              "      <td>yes</td>\n",
              "      <td>semi-furnished</td>\n",
              "    </tr>\n",
              "    <tr>\n",
              "      <th>3</th>\n",
              "      <td>12215000</td>\n",
              "      <td>7500</td>\n",
              "      <td>4</td>\n",
              "      <td>2</td>\n",
              "      <td>2</td>\n",
              "      <td>yes</td>\n",
              "      <td>no</td>\n",
              "      <td>yes</td>\n",
              "      <td>no</td>\n",
              "      <td>yes</td>\n",
              "      <td>3</td>\n",
              "      <td>yes</td>\n",
              "      <td>furnished</td>\n",
              "    </tr>\n",
              "    <tr>\n",
              "      <th>4</th>\n",
              "      <td>11410000</td>\n",
              "      <td>7420</td>\n",
              "      <td>4</td>\n",
              "      <td>1</td>\n",
              "      <td>2</td>\n",
              "      <td>yes</td>\n",
              "      <td>yes</td>\n",
              "      <td>yes</td>\n",
              "      <td>no</td>\n",
              "      <td>yes</td>\n",
              "      <td>2</td>\n",
              "      <td>no</td>\n",
              "      <td>furnished</td>\n",
              "    </tr>\n",
              "  </tbody>\n",
              "</table>\n",
              "</div>\n",
              "      <button class=\"colab-df-convert\" onclick=\"convertToInteractive('df-8a31be9c-d3ca-4b1e-aba5-0932b533cce6')\"\n",
              "              title=\"Convert this dataframe to an interactive table.\"\n",
              "              style=\"display:none;\">\n",
              "        \n",
              "  <svg xmlns=\"http://www.w3.org/2000/svg\" height=\"24px\"viewBox=\"0 0 24 24\"\n",
              "       width=\"24px\">\n",
              "    <path d=\"M0 0h24v24H0V0z\" fill=\"none\"/>\n",
              "    <path d=\"M18.56 5.44l.94 2.06.94-2.06 2.06-.94-2.06-.94-.94-2.06-.94 2.06-2.06.94zm-11 1L8.5 8.5l.94-2.06 2.06-.94-2.06-.94L8.5 2.5l-.94 2.06-2.06.94zm10 10l.94 2.06.94-2.06 2.06-.94-2.06-.94-.94-2.06-.94 2.06-2.06.94z\"/><path d=\"M17.41 7.96l-1.37-1.37c-.4-.4-.92-.59-1.43-.59-.52 0-1.04.2-1.43.59L10.3 9.45l-7.72 7.72c-.78.78-.78 2.05 0 2.83L4 21.41c.39.39.9.59 1.41.59.51 0 1.02-.2 1.41-.59l7.78-7.78 2.81-2.81c.8-.78.8-2.07 0-2.86zM5.41 20L4 18.59l7.72-7.72 1.47 1.35L5.41 20z\"/>\n",
              "  </svg>\n",
              "      </button>\n",
              "      \n",
              "  <style>\n",
              "    .colab-df-container {\n",
              "      display:flex;\n",
              "      flex-wrap:wrap;\n",
              "      gap: 12px;\n",
              "    }\n",
              "\n",
              "    .colab-df-convert {\n",
              "      background-color: #E8F0FE;\n",
              "      border: none;\n",
              "      border-radius: 50%;\n",
              "      cursor: pointer;\n",
              "      display: none;\n",
              "      fill: #1967D2;\n",
              "      height: 32px;\n",
              "      padding: 0 0 0 0;\n",
              "      width: 32px;\n",
              "    }\n",
              "\n",
              "    .colab-df-convert:hover {\n",
              "      background-color: #E2EBFA;\n",
              "      box-shadow: 0px 1px 2px rgba(60, 64, 67, 0.3), 0px 1px 3px 1px rgba(60, 64, 67, 0.15);\n",
              "      fill: #174EA6;\n",
              "    }\n",
              "\n",
              "    [theme=dark] .colab-df-convert {\n",
              "      background-color: #3B4455;\n",
              "      fill: #D2E3FC;\n",
              "    }\n",
              "\n",
              "    [theme=dark] .colab-df-convert:hover {\n",
              "      background-color: #434B5C;\n",
              "      box-shadow: 0px 1px 3px 1px rgba(0, 0, 0, 0.15);\n",
              "      filter: drop-shadow(0px 1px 2px rgba(0, 0, 0, 0.3));\n",
              "      fill: #FFFFFF;\n",
              "    }\n",
              "  </style>\n",
              "\n",
              "      <script>\n",
              "        const buttonEl =\n",
              "          document.querySelector('#df-8a31be9c-d3ca-4b1e-aba5-0932b533cce6 button.colab-df-convert');\n",
              "        buttonEl.style.display =\n",
              "          google.colab.kernel.accessAllowed ? 'block' : 'none';\n",
              "\n",
              "        async function convertToInteractive(key) {\n",
              "          const element = document.querySelector('#df-8a31be9c-d3ca-4b1e-aba5-0932b533cce6');\n",
              "          const dataTable =\n",
              "            await google.colab.kernel.invokeFunction('convertToInteractive',\n",
              "                                                     [key], {});\n",
              "          if (!dataTable) return;\n",
              "\n",
              "          const docLinkHtml = 'Like what you see? Visit the ' +\n",
              "            '<a target=\"_blank\" href=https://colab.research.google.com/notebooks/data_table.ipynb>data table notebook</a>'\n",
              "            + ' to learn more about interactive tables.';\n",
              "          element.innerHTML = '';\n",
              "          dataTable['output_type'] = 'display_data';\n",
              "          await google.colab.output.renderOutput(dataTable, element);\n",
              "          const docLink = document.createElement('div');\n",
              "          docLink.innerHTML = docLinkHtml;\n",
              "          element.appendChild(docLink);\n",
              "        }\n",
              "      </script>\n",
              "    </div>\n",
              "  </div>\n",
              "  "
            ]
          },
          "metadata": {},
          "execution_count": 2
        }
      ],
      "source": [
        "path = \"/content/drive/MyDrive/Housing.csv\"\n",
        "cols = ['price', 'area', 'bedrooms','bathrooms', 'stories', 'mainroad',\n",
        "        'guestroom', 'basement', 'hotwaterheating', 'airconditioning', \n",
        "        'parking', 'prefarea', 'furnishingstatus']\n",
        "\n",
        "data = pd.read_csv(path, header = 0, usecols = cols)  \n",
        "data.head()"
      ]
    },
    {
      "cell_type": "code",
      "execution_count": null,
      "metadata": {
        "colab": {
          "base_uri": "https://localhost:8080/"
        },
        "id": "lloxeCxcjNzL",
        "outputId": "75bc2c9c-0ea4-4ad6-a2d6-f4eecaae7fb6"
      },
      "outputs": [
        {
          "output_type": "stream",
          "name": "stdout",
          "text": [
            "<class 'pandas.core.frame.DataFrame'>\n",
            "RangeIndex: 545 entries, 0 to 544\n",
            "Data columns (total 13 columns):\n",
            " #   Column            Non-Null Count  Dtype \n",
            "---  ------            --------------  ----- \n",
            " 0   price             545 non-null    int64 \n",
            " 1   area              545 non-null    int64 \n",
            " 2   bedrooms          545 non-null    int64 \n",
            " 3   bathrooms         545 non-null    int64 \n",
            " 4   stories           545 non-null    int64 \n",
            " 5   mainroad          545 non-null    object\n",
            " 6   guestroom         545 non-null    object\n",
            " 7   basement          545 non-null    object\n",
            " 8   hotwaterheating   545 non-null    object\n",
            " 9   airconditioning   545 non-null    object\n",
            " 10  parking           545 non-null    int64 \n",
            " 11  prefarea          545 non-null    object\n",
            " 12  furnishingstatus  545 non-null    object\n",
            "dtypes: int64(6), object(7)\n",
            "memory usage: 55.5+ KB\n"
          ]
        }
      ],
      "source": [
        "data.info()"
      ]
    },
    {
      "cell_type": "code",
      "execution_count": null,
      "metadata": {
        "colab": {
          "base_uri": "https://localhost:8080/"
        },
        "id": "UwoYD61ajT-u",
        "outputId": "ab19b1ee-add1-4b93-ef20-9f6f5e10d3a6"
      },
      "outputs": [
        {
          "output_type": "execute_result",
          "data": {
            "text/plain": [
              "              price          area    bedrooms   bathrooms     stories  \\\n",
              "count  5.450000e+02    545.000000  545.000000  545.000000  545.000000   \n",
              "mean   4.766729e+06   5150.541284    2.965138    1.286239    1.805505   \n",
              "std    1.870440e+06   2170.141023    0.738064    0.502470    0.867492   \n",
              "min    1.750000e+06   1650.000000    1.000000    1.000000    1.000000   \n",
              "25%    3.430000e+06   3600.000000    2.000000    1.000000    1.000000   \n",
              "50%    4.340000e+06   4600.000000    3.000000    1.000000    2.000000   \n",
              "75%    5.740000e+06   6360.000000    3.000000    2.000000    2.000000   \n",
              "max    1.330000e+07  16200.000000    6.000000    4.000000    4.000000   \n",
              "\n",
              "          parking  \n",
              "count  545.000000  \n",
              "mean     0.693578  \n",
              "std      0.861586  \n",
              "min      0.000000  \n",
              "25%      0.000000  \n",
              "50%      0.000000  \n",
              "75%      1.000000  \n",
              "max      3.000000  "
            ],
            "text/html": [
              "\n",
              "  <div id=\"df-3399aaa7-98ed-4884-b13c-be6b4c0d8984\">\n",
              "    <div class=\"colab-df-container\">\n",
              "      <div>\n",
              "<style scoped>\n",
              "    .dataframe tbody tr th:only-of-type {\n",
              "        vertical-align: middle;\n",
              "    }\n",
              "\n",
              "    .dataframe tbody tr th {\n",
              "        vertical-align: top;\n",
              "    }\n",
              "\n",
              "    .dataframe thead th {\n",
              "        text-align: right;\n",
              "    }\n",
              "</style>\n",
              "<table border=\"1\" class=\"dataframe\">\n",
              "  <thead>\n",
              "    <tr style=\"text-align: right;\">\n",
              "      <th></th>\n",
              "      <th>price</th>\n",
              "      <th>area</th>\n",
              "      <th>bedrooms</th>\n",
              "      <th>bathrooms</th>\n",
              "      <th>stories</th>\n",
              "      <th>parking</th>\n",
              "    </tr>\n",
              "  </thead>\n",
              "  <tbody>\n",
              "    <tr>\n",
              "      <th>count</th>\n",
              "      <td>5.450000e+02</td>\n",
              "      <td>545.000000</td>\n",
              "      <td>545.000000</td>\n",
              "      <td>545.000000</td>\n",
              "      <td>545.000000</td>\n",
              "      <td>545.000000</td>\n",
              "    </tr>\n",
              "    <tr>\n",
              "      <th>mean</th>\n",
              "      <td>4.766729e+06</td>\n",
              "      <td>5150.541284</td>\n",
              "      <td>2.965138</td>\n",
              "      <td>1.286239</td>\n",
              "      <td>1.805505</td>\n",
              "      <td>0.693578</td>\n",
              "    </tr>\n",
              "    <tr>\n",
              "      <th>std</th>\n",
              "      <td>1.870440e+06</td>\n",
              "      <td>2170.141023</td>\n",
              "      <td>0.738064</td>\n",
              "      <td>0.502470</td>\n",
              "      <td>0.867492</td>\n",
              "      <td>0.861586</td>\n",
              "    </tr>\n",
              "    <tr>\n",
              "      <th>min</th>\n",
              "      <td>1.750000e+06</td>\n",
              "      <td>1650.000000</td>\n",
              "      <td>1.000000</td>\n",
              "      <td>1.000000</td>\n",
              "      <td>1.000000</td>\n",
              "      <td>0.000000</td>\n",
              "    </tr>\n",
              "    <tr>\n",
              "      <th>25%</th>\n",
              "      <td>3.430000e+06</td>\n",
              "      <td>3600.000000</td>\n",
              "      <td>2.000000</td>\n",
              "      <td>1.000000</td>\n",
              "      <td>1.000000</td>\n",
              "      <td>0.000000</td>\n",
              "    </tr>\n",
              "    <tr>\n",
              "      <th>50%</th>\n",
              "      <td>4.340000e+06</td>\n",
              "      <td>4600.000000</td>\n",
              "      <td>3.000000</td>\n",
              "      <td>1.000000</td>\n",
              "      <td>2.000000</td>\n",
              "      <td>0.000000</td>\n",
              "    </tr>\n",
              "    <tr>\n",
              "      <th>75%</th>\n",
              "      <td>5.740000e+06</td>\n",
              "      <td>6360.000000</td>\n",
              "      <td>3.000000</td>\n",
              "      <td>2.000000</td>\n",
              "      <td>2.000000</td>\n",
              "      <td>1.000000</td>\n",
              "    </tr>\n",
              "    <tr>\n",
              "      <th>max</th>\n",
              "      <td>1.330000e+07</td>\n",
              "      <td>16200.000000</td>\n",
              "      <td>6.000000</td>\n",
              "      <td>4.000000</td>\n",
              "      <td>4.000000</td>\n",
              "      <td>3.000000</td>\n",
              "    </tr>\n",
              "  </tbody>\n",
              "</table>\n",
              "</div>\n",
              "      <button class=\"colab-df-convert\" onclick=\"convertToInteractive('df-3399aaa7-98ed-4884-b13c-be6b4c0d8984')\"\n",
              "              title=\"Convert this dataframe to an interactive table.\"\n",
              "              style=\"display:none;\">\n",
              "        \n",
              "  <svg xmlns=\"http://www.w3.org/2000/svg\" height=\"24px\"viewBox=\"0 0 24 24\"\n",
              "       width=\"24px\">\n",
              "    <path d=\"M0 0h24v24H0V0z\" fill=\"none\"/>\n",
              "    <path d=\"M18.56 5.44l.94 2.06.94-2.06 2.06-.94-2.06-.94-.94-2.06-.94 2.06-2.06.94zm-11 1L8.5 8.5l.94-2.06 2.06-.94-2.06-.94L8.5 2.5l-.94 2.06-2.06.94zm10 10l.94 2.06.94-2.06 2.06-.94-2.06-.94-.94-2.06-.94 2.06-2.06.94z\"/><path d=\"M17.41 7.96l-1.37-1.37c-.4-.4-.92-.59-1.43-.59-.52 0-1.04.2-1.43.59L10.3 9.45l-7.72 7.72c-.78.78-.78 2.05 0 2.83L4 21.41c.39.39.9.59 1.41.59.51 0 1.02-.2 1.41-.59l7.78-7.78 2.81-2.81c.8-.78.8-2.07 0-2.86zM5.41 20L4 18.59l7.72-7.72 1.47 1.35L5.41 20z\"/>\n",
              "  </svg>\n",
              "      </button>\n",
              "      \n",
              "  <style>\n",
              "    .colab-df-container {\n",
              "      display:flex;\n",
              "      flex-wrap:wrap;\n",
              "      gap: 12px;\n",
              "    }\n",
              "\n",
              "    .colab-df-convert {\n",
              "      background-color: #E8F0FE;\n",
              "      border: none;\n",
              "      border-radius: 50%;\n",
              "      cursor: pointer;\n",
              "      display: none;\n",
              "      fill: #1967D2;\n",
              "      height: 32px;\n",
              "      padding: 0 0 0 0;\n",
              "      width: 32px;\n",
              "    }\n",
              "\n",
              "    .colab-df-convert:hover {\n",
              "      background-color: #E2EBFA;\n",
              "      box-shadow: 0px 1px 2px rgba(60, 64, 67, 0.3), 0px 1px 3px 1px rgba(60, 64, 67, 0.15);\n",
              "      fill: #174EA6;\n",
              "    }\n",
              "\n",
              "    [theme=dark] .colab-df-convert {\n",
              "      background-color: #3B4455;\n",
              "      fill: #D2E3FC;\n",
              "    }\n",
              "\n",
              "    [theme=dark] .colab-df-convert:hover {\n",
              "      background-color: #434B5C;\n",
              "      box-shadow: 0px 1px 3px 1px rgba(0, 0, 0, 0.15);\n",
              "      filter: drop-shadow(0px 1px 2px rgba(0, 0, 0, 0.3));\n",
              "      fill: #FFFFFF;\n",
              "    }\n",
              "  </style>\n",
              "\n",
              "      <script>\n",
              "        const buttonEl =\n",
              "          document.querySelector('#df-3399aaa7-98ed-4884-b13c-be6b4c0d8984 button.colab-df-convert');\n",
              "        buttonEl.style.display =\n",
              "          google.colab.kernel.accessAllowed ? 'block' : 'none';\n",
              "\n",
              "        async function convertToInteractive(key) {\n",
              "          const element = document.querySelector('#df-3399aaa7-98ed-4884-b13c-be6b4c0d8984');\n",
              "          const dataTable =\n",
              "            await google.colab.kernel.invokeFunction('convertToInteractive',\n",
              "                                                     [key], {});\n",
              "          if (!dataTable) return;\n",
              "\n",
              "          const docLinkHtml = 'Like what you see? Visit the ' +\n",
              "            '<a target=\"_blank\" href=https://colab.research.google.com/notebooks/data_table.ipynb>data table notebook</a>'\n",
              "            + ' to learn more about interactive tables.';\n",
              "          element.innerHTML = '';\n",
              "          dataTable['output_type'] = 'display_data';\n",
              "          await google.colab.output.renderOutput(dataTable, element);\n",
              "          const docLink = document.createElement('div');\n",
              "          docLink.innerHTML = docLinkHtml;\n",
              "          element.appendChild(docLink);\n",
              "        }\n",
              "      </script>\n",
              "    </div>\n",
              "  </div>\n",
              "  "
            ]
          },
          "metadata": {},
          "execution_count": 4
        }
      ],
      "source": [
        "data.describe()"
      ]
    },
    {
      "cell_type": "markdown",
      "metadata": {
        "id": "Y_u6ECz5mjbN"
      },
      "source": [
        "# 2. Ánh xạ dữ liệu"
      ]
    },
    {
      "cell_type": "markdown",
      "metadata": {
        "id": "hlurRKvQx0Iy"
      },
      "source": [
        "### 2.1 Đánh số cho dữ liệu dạng \"yes/no\" và tạo biến dummy"
      ]
    },
    {
      "cell_type": "code",
      "execution_count": null,
      "metadata": {
        "id": "16zoA7IDm_PR"
      },
      "outputs": [],
      "source": [
        "varlist =  ['mainroad', 'guestroom', 'basement', 'hotwaterheating',\n",
        "            'airconditioning', 'prefarea']\n",
        "\n",
        "# Applying the mapping function to the housing list\n",
        "data[varlist] = data[varlist].apply(lambda x: x.map({'yes': 1, 'no': 0}))"
      ]
    },
    {
      "cell_type": "markdown",
      "source": [
        "Biến giả trong tiếng Anh là Dummy variable.\n",
        "\n",
        "Biến giả là biến độc lập được đưa vào mô hình hồi quy để giải thích các yếu tố định tính (ví dụ: giới tính, chủng tộc, tôn giáo...)."
      ],
      "metadata": {
        "id": "ZardTNSaaGCb"
      }
    },
    {
      "cell_type": "code",
      "execution_count": null,
      "metadata": {
        "id": "JnN_Z9yZ7FiD"
      },
      "outputs": [],
      "source": [
        "# Get the dummy variables for the feature 'furnishingstatus' and store it in a\n",
        "# new variable 'status'\n",
        "status = pd.get_dummies(data['furnishingstatus'], drop_first = True)\n",
        "\n",
        "# Add the results to the original housing dataframe\n",
        "data = pd.concat([data, status], axis = 1)\n",
        "\n",
        "# Drop 'furnishingstatus' as we have created the dummies for it\n",
        "data.drop(['furnishingstatus'], axis = 1, inplace = True)"
      ]
    },
    {
      "cell_type": "code",
      "execution_count": null,
      "metadata": {
        "colab": {
          "base_uri": "https://localhost:8080/"
        },
        "id": "-7bf6aiqn-uy",
        "outputId": "164f57f3-3d37-4d1e-fe47-2f6f8c736e34"
      },
      "outputs": [
        {
          "output_type": "execute_result",
          "data": {
            "text/plain": [
              "      price  area  bedrooms  bathrooms  stories  mainroad  guestroom  \\\n",
              "0  13300000  7420         4          2        3         1          0   \n",
              "1  12250000  8960         4          4        4         1          0   \n",
              "2  12250000  9960         3          2        2         1          0   \n",
              "3  12215000  7500         4          2        2         1          0   \n",
              "4  11410000  7420         4          1        2         1          1   \n",
              "\n",
              "   basement  hotwaterheating  airconditioning  parking  prefarea  \\\n",
              "0         0                0                1        2         1   \n",
              "1         0                0                1        3         0   \n",
              "2         1                0                0        2         1   \n",
              "3         1                0                1        3         1   \n",
              "4         1                0                1        2         0   \n",
              "\n",
              "   semi-furnished  unfurnished  \n",
              "0               0            0  \n",
              "1               0            0  \n",
              "2               1            0  \n",
              "3               0            0  \n",
              "4               0            0  "
            ],
            "text/html": [
              "\n",
              "  <div id=\"df-b6322d47-cb85-46e4-a035-493cbb7bc565\">\n",
              "    <div class=\"colab-df-container\">\n",
              "      <div>\n",
              "<style scoped>\n",
              "    .dataframe tbody tr th:only-of-type {\n",
              "        vertical-align: middle;\n",
              "    }\n",
              "\n",
              "    .dataframe tbody tr th {\n",
              "        vertical-align: top;\n",
              "    }\n",
              "\n",
              "    .dataframe thead th {\n",
              "        text-align: right;\n",
              "    }\n",
              "</style>\n",
              "<table border=\"1\" class=\"dataframe\">\n",
              "  <thead>\n",
              "    <tr style=\"text-align: right;\">\n",
              "      <th></th>\n",
              "      <th>price</th>\n",
              "      <th>area</th>\n",
              "      <th>bedrooms</th>\n",
              "      <th>bathrooms</th>\n",
              "      <th>stories</th>\n",
              "      <th>mainroad</th>\n",
              "      <th>guestroom</th>\n",
              "      <th>basement</th>\n",
              "      <th>hotwaterheating</th>\n",
              "      <th>airconditioning</th>\n",
              "      <th>parking</th>\n",
              "      <th>prefarea</th>\n",
              "      <th>semi-furnished</th>\n",
              "      <th>unfurnished</th>\n",
              "    </tr>\n",
              "  </thead>\n",
              "  <tbody>\n",
              "    <tr>\n",
              "      <th>0</th>\n",
              "      <td>13300000</td>\n",
              "      <td>7420</td>\n",
              "      <td>4</td>\n",
              "      <td>2</td>\n",
              "      <td>3</td>\n",
              "      <td>1</td>\n",
              "      <td>0</td>\n",
              "      <td>0</td>\n",
              "      <td>0</td>\n",
              "      <td>1</td>\n",
              "      <td>2</td>\n",
              "      <td>1</td>\n",
              "      <td>0</td>\n",
              "      <td>0</td>\n",
              "    </tr>\n",
              "    <tr>\n",
              "      <th>1</th>\n",
              "      <td>12250000</td>\n",
              "      <td>8960</td>\n",
              "      <td>4</td>\n",
              "      <td>4</td>\n",
              "      <td>4</td>\n",
              "      <td>1</td>\n",
              "      <td>0</td>\n",
              "      <td>0</td>\n",
              "      <td>0</td>\n",
              "      <td>1</td>\n",
              "      <td>3</td>\n",
              "      <td>0</td>\n",
              "      <td>0</td>\n",
              "      <td>0</td>\n",
              "    </tr>\n",
              "    <tr>\n",
              "      <th>2</th>\n",
              "      <td>12250000</td>\n",
              "      <td>9960</td>\n",
              "      <td>3</td>\n",
              "      <td>2</td>\n",
              "      <td>2</td>\n",
              "      <td>1</td>\n",
              "      <td>0</td>\n",
              "      <td>1</td>\n",
              "      <td>0</td>\n",
              "      <td>0</td>\n",
              "      <td>2</td>\n",
              "      <td>1</td>\n",
              "      <td>1</td>\n",
              "      <td>0</td>\n",
              "    </tr>\n",
              "    <tr>\n",
              "      <th>3</th>\n",
              "      <td>12215000</td>\n",
              "      <td>7500</td>\n",
              "      <td>4</td>\n",
              "      <td>2</td>\n",
              "      <td>2</td>\n",
              "      <td>1</td>\n",
              "      <td>0</td>\n",
              "      <td>1</td>\n",
              "      <td>0</td>\n",
              "      <td>1</td>\n",
              "      <td>3</td>\n",
              "      <td>1</td>\n",
              "      <td>0</td>\n",
              "      <td>0</td>\n",
              "    </tr>\n",
              "    <tr>\n",
              "      <th>4</th>\n",
              "      <td>11410000</td>\n",
              "      <td>7420</td>\n",
              "      <td>4</td>\n",
              "      <td>1</td>\n",
              "      <td>2</td>\n",
              "      <td>1</td>\n",
              "      <td>1</td>\n",
              "      <td>1</td>\n",
              "      <td>0</td>\n",
              "      <td>1</td>\n",
              "      <td>2</td>\n",
              "      <td>0</td>\n",
              "      <td>0</td>\n",
              "      <td>0</td>\n",
              "    </tr>\n",
              "  </tbody>\n",
              "</table>\n",
              "</div>\n",
              "      <button class=\"colab-df-convert\" onclick=\"convertToInteractive('df-b6322d47-cb85-46e4-a035-493cbb7bc565')\"\n",
              "              title=\"Convert this dataframe to an interactive table.\"\n",
              "              style=\"display:none;\">\n",
              "        \n",
              "  <svg xmlns=\"http://www.w3.org/2000/svg\" height=\"24px\"viewBox=\"0 0 24 24\"\n",
              "       width=\"24px\">\n",
              "    <path d=\"M0 0h24v24H0V0z\" fill=\"none\"/>\n",
              "    <path d=\"M18.56 5.44l.94 2.06.94-2.06 2.06-.94-2.06-.94-.94-2.06-.94 2.06-2.06.94zm-11 1L8.5 8.5l.94-2.06 2.06-.94-2.06-.94L8.5 2.5l-.94 2.06-2.06.94zm10 10l.94 2.06.94-2.06 2.06-.94-2.06-.94-.94-2.06-.94 2.06-2.06.94z\"/><path d=\"M17.41 7.96l-1.37-1.37c-.4-.4-.92-.59-1.43-.59-.52 0-1.04.2-1.43.59L10.3 9.45l-7.72 7.72c-.78.78-.78 2.05 0 2.83L4 21.41c.39.39.9.59 1.41.59.51 0 1.02-.2 1.41-.59l7.78-7.78 2.81-2.81c.8-.78.8-2.07 0-2.86zM5.41 20L4 18.59l7.72-7.72 1.47 1.35L5.41 20z\"/>\n",
              "  </svg>\n",
              "      </button>\n",
              "      \n",
              "  <style>\n",
              "    .colab-df-container {\n",
              "      display:flex;\n",
              "      flex-wrap:wrap;\n",
              "      gap: 12px;\n",
              "    }\n",
              "\n",
              "    .colab-df-convert {\n",
              "      background-color: #E8F0FE;\n",
              "      border: none;\n",
              "      border-radius: 50%;\n",
              "      cursor: pointer;\n",
              "      display: none;\n",
              "      fill: #1967D2;\n",
              "      height: 32px;\n",
              "      padding: 0 0 0 0;\n",
              "      width: 32px;\n",
              "    }\n",
              "\n",
              "    .colab-df-convert:hover {\n",
              "      background-color: #E2EBFA;\n",
              "      box-shadow: 0px 1px 2px rgba(60, 64, 67, 0.3), 0px 1px 3px 1px rgba(60, 64, 67, 0.15);\n",
              "      fill: #174EA6;\n",
              "    }\n",
              "\n",
              "    [theme=dark] .colab-df-convert {\n",
              "      background-color: #3B4455;\n",
              "      fill: #D2E3FC;\n",
              "    }\n",
              "\n",
              "    [theme=dark] .colab-df-convert:hover {\n",
              "      background-color: #434B5C;\n",
              "      box-shadow: 0px 1px 3px 1px rgba(0, 0, 0, 0.15);\n",
              "      filter: drop-shadow(0px 1px 2px rgba(0, 0, 0, 0.3));\n",
              "      fill: #FFFFFF;\n",
              "    }\n",
              "  </style>\n",
              "\n",
              "      <script>\n",
              "        const buttonEl =\n",
              "          document.querySelector('#df-b6322d47-cb85-46e4-a035-493cbb7bc565 button.colab-df-convert');\n",
              "        buttonEl.style.display =\n",
              "          google.colab.kernel.accessAllowed ? 'block' : 'none';\n",
              "\n",
              "        async function convertToInteractive(key) {\n",
              "          const element = document.querySelector('#df-b6322d47-cb85-46e4-a035-493cbb7bc565');\n",
              "          const dataTable =\n",
              "            await google.colab.kernel.invokeFunction('convertToInteractive',\n",
              "                                                     [key], {});\n",
              "          if (!dataTable) return;\n",
              "\n",
              "          const docLinkHtml = 'Like what you see? Visit the ' +\n",
              "            '<a target=\"_blank\" href=https://colab.research.google.com/notebooks/data_table.ipynb>data table notebook</a>'\n",
              "            + ' to learn more about interactive tables.';\n",
              "          element.innerHTML = '';\n",
              "          dataTable['output_type'] = 'display_data';\n",
              "          await google.colab.output.renderOutput(dataTable, element);\n",
              "          const docLink = document.createElement('div');\n",
              "          docLink.innerHTML = docLinkHtml;\n",
              "          element.appendChild(docLink);\n",
              "        }\n",
              "      </script>\n",
              "    </div>\n",
              "  </div>\n",
              "  "
            ]
          },
          "metadata": {},
          "execution_count": 7
        }
      ],
      "source": [
        "data.head()"
      ]
    },
    {
      "cell_type": "markdown",
      "metadata": {
        "id": "G21kG3_ctAjC"
      },
      "source": [
        "# 3. Chia dữ liệu huấn luyện và kiểm tra\n"
      ]
    },
    {
      "cell_type": "markdown",
      "metadata": {
        "id": "w807KHNuw5de"
      },
      "source": [
        "### 3.1 Chia với tỉ lệ 70% huấn luyện, 30% kiểm tra. Chuẩn hóa dữ liệu"
      ]
    },
    {
      "cell_type": "code",
      "execution_count": null,
      "metadata": {
        "id": "K73jBqEq7X5c"
      },
      "outputs": [],
      "source": [
        "from sklearn.model_selection import train_test_split\n",
        "np.random.seed(0)\n",
        "df_train, df_test = train_test_split(\n",
        "    data,\n",
        "    train_size = 0.7,\n",
        "    test_size = 0.3,\n",
        "    random_state = 100\n",
        ")"
      ]
    },
    {
      "cell_type": "code",
      "execution_count": null,
      "metadata": {
        "id": "i7pEc2-a7ur0"
      },
      "outputs": [],
      "source": [
        "from sklearn.preprocessing import StandardScaler\n",
        "scaler = StandardScaler()\n",
        "\n",
        "# Apply scaler() to all the columns except the 'yes-no' and 'dummy' variables\n",
        "num_vars = ['area', 'bedrooms', 'bathrooms', 'stories', 'parking', 'price']\n",
        "\n",
        "df_train[num_vars] = scaler.fit_transform(df_train[num_vars])\n",
        "df_train = df_train.dropna()"
      ]
    },
    {
      "cell_type": "markdown",
      "metadata": {
        "id": "hcjWgsi3nmVr"
      },
      "source": [
        "### 3.2 Kiểm tra tính đa cộng tuyến"
      ]
    },
    {
      "cell_type": "code",
      "execution_count": null,
      "metadata": {
        "colab": {
          "base_uri": "https://localhost:8080/",
          "height": 685
        },
        "id": "GE4951QbnlTj",
        "outputId": "17042bd5-2b56-460e-f6ff-6a4fad8548ed"
      },
      "outputs": [
        {
          "output_type": "display_data",
          "data": {
            "text/plain": [
              "<Figure size 1152x720 with 2 Axes>"
            ],
            "image/png": "[encoded data removed]"
          },
          "metadata": {
            "needs_background": "light"
          }
        }
      ],
      "source": [
        "# Check the correlation coefficients to see which variables are highly correlated\n",
        "plt.figure(figsize = (16, 10))\n",
        "plt.title(\"Correlation\", fontsize=20)\n",
        "corr_matrix = df_train.corr()\n",
        "\n",
        "sns.heatmap(corr_matrix, annot = True, cmap = \"YlGnBu\")\n",
        "plt.show()"
      ]
    },
    {
      "cell_type": "code",
      "execution_count": null,
      "metadata": {
        "colab": {
          "base_uri": "https://localhost:8080/",
          "height": 488
        },
        "id": "9kx8Wrp1n-13",
        "outputId": "53c195c6-6b9c-490a-9470-48443cacb6e7"
      },
      "outputs": [
        {
          "output_type": "execute_result",
          "data": {
            "text/plain": [
              "                 price  area  bedrooms  bathrooms  stories  mainroad  \\\n",
              "price              1.0   NaN       NaN        NaN      NaN       NaN   \n",
              "area               NaN   1.0       NaN        NaN      NaN       NaN   \n",
              "bedrooms           NaN   NaN       1.0        NaN      NaN       NaN   \n",
              "bathrooms          NaN   NaN       NaN        1.0      NaN       NaN   \n",
              "stories            NaN   NaN       NaN        NaN      1.0       NaN   \n",
              "mainroad           NaN   NaN       NaN        NaN      NaN       1.0   \n",
              "guestroom          NaN   NaN       NaN        NaN      NaN       NaN   \n",
              "basement           NaN   NaN       NaN        NaN      NaN       NaN   \n",
              "hotwaterheating    NaN   NaN       NaN        NaN      NaN       NaN   \n",
              "airconditioning    NaN   NaN       NaN        NaN      NaN       NaN   \n",
              "parking            NaN   NaN       NaN        NaN      NaN       NaN   \n",
              "prefarea           NaN   NaN       NaN        NaN      NaN       NaN   \n",
              "semi-furnished     NaN   NaN       NaN        NaN      NaN       NaN   \n",
              "unfurnished        NaN   NaN       NaN        NaN      NaN       NaN   \n",
              "\n",
              "                 guestroom  basement  hotwaterheating  airconditioning  \\\n",
              "price                  NaN       NaN              NaN              NaN   \n",
              "area                   NaN       NaN              NaN              NaN   \n",
              "bedrooms               NaN       NaN              NaN              NaN   \n",
              "bathrooms              NaN       NaN              NaN              NaN   \n",
              "stories                NaN       NaN              NaN              NaN   \n",
              "mainroad               NaN       NaN              NaN              NaN   \n",
              "guestroom              1.0       NaN              NaN              NaN   \n",
              "basement               NaN       1.0              NaN              NaN   \n",
              "hotwaterheating        NaN       NaN              1.0              NaN   \n",
              "airconditioning        NaN       NaN              NaN              1.0   \n",
              "parking                NaN       NaN              NaN              NaN   \n",
              "prefarea               NaN       NaN              NaN              NaN   \n",
              "semi-furnished         NaN       NaN              NaN              NaN   \n",
              "unfurnished            NaN       NaN              NaN              NaN   \n",
              "\n",
              "                 parking  prefarea  semi-furnished  unfurnished  \n",
              "price                NaN       NaN             NaN          NaN  \n",
              "area                 NaN       NaN             NaN          NaN  \n",
              "bedrooms             NaN       NaN             NaN          NaN  \n",
              "bathrooms            NaN       NaN             NaN          NaN  \n",
              "stories              NaN       NaN             NaN          NaN  \n",
              "mainroad             NaN       NaN             NaN          NaN  \n",
              "guestroom            NaN       NaN             NaN          NaN  \n",
              "basement             NaN       NaN             NaN          NaN  \n",
              "hotwaterheating      NaN       NaN             NaN          NaN  \n",
              "airconditioning      NaN       NaN             NaN          NaN  \n",
              "parking              1.0       NaN             NaN          NaN  \n",
              "prefarea             NaN       1.0             NaN          NaN  \n",
              "semi-furnished       NaN       NaN             1.0          NaN  \n",
              "unfurnished          NaN       NaN             NaN          1.0  "
            ],
            "text/html": [
              "\n",
              "  <div id=\"df-9fd9f9c6-8eb0-437b-b91f-462385b98fa2\">\n",
              "    <div class=\"colab-df-container\">\n",
              "      <div>\n",
              "<style scoped>\n",
              "    .dataframe tbody tr th:only-of-type {\n",
              "        vertical-align: middle;\n",
              "    }\n",
              "\n",
              "    .dataframe tbody tr th {\n",
              "        vertical-align: top;\n",
              "    }\n",
              "\n",
              "    .dataframe thead th {\n",
              "        text-align: right;\n",
              "    }\n",
              "</style>\n",
              "<table border=\"1\" class=\"dataframe\">\n",
              "  <thead>\n",
              "    <tr style=\"text-align: right;\">\n",
              "      <th></th>\n",
              "      <th>price</th>\n",
              "      <th>area</th>\n",
              "      <th>bedrooms</th>\n",
              "      <th>bathrooms</th>\n",
              "      <th>stories</th>\n",
              "      <th>mainroad</th>\n",
              "      <th>guestroom</th>\n",
              "      <th>basement</th>\n",
              "      <th>hotwaterheating</th>\n",
              "      <th>airconditioning</th>\n",
              "      <th>parking</th>\n",
              "      <th>prefarea</th>\n",
              "      <th>semi-furnished</th>\n",
              "      <th>unfurnished</th>\n",
              "    </tr>\n",
              "  </thead>\n",
              "  <tbody>\n",
              "    <tr>\n",
              "      <th>price</th>\n",
              "      <td>1.0</td>\n",
              "      <td>NaN</td>\n",
              "      <td>NaN</td>\n",
              "      <td>NaN</td>\n",
              "      <td>NaN</td>\n",
              "      <td>NaN</td>\n",
              "      <td>NaN</td>\n",
              "      <td>NaN</td>\n",
              "      <td>NaN</td>\n",
              "      <td>NaN</td>\n",
              "      <td>NaN</td>\n",
              "      <td>NaN</td>\n",
              "      <td>NaN</td>\n",
              "      <td>NaN</td>\n",
              "    </tr>\n",
              "    <tr>\n",
              "      <th>area</th>\n",
              "      <td>NaN</td>\n",
              "      <td>1.0</td>\n",
              "      <td>NaN</td>\n",
              "      <td>NaN</td>\n",
              "      <td>NaN</td>\n",
              "      <td>NaN</td>\n",
              "      <td>NaN</td>\n",
              "      <td>NaN</td>\n",
              "      <td>NaN</td>\n",
              "      <td>NaN</td>\n",
              "      <td>NaN</td>\n",
              "      <td>NaN</td>\n",
              "      <td>NaN</td>\n",
              "      <td>NaN</td>\n",
              "    </tr>\n",
              "    <tr>\n",
              "      <th>bedrooms</th>\n",
              "      <td>NaN</td>\n",
              "      <td>NaN</td>\n",
              "      <td>1.0</td>\n",
              "      <td>NaN</td>\n",
              "      <td>NaN</td>\n",
              "      <td>NaN</td>\n",
              "      <td>NaN</td>\n",
              "      <td>NaN</td>\n",
              "      <td>NaN</td>\n",
              "      <td>NaN</td>\n",
              "      <td>NaN</td>\n",
              "      <td>NaN</td>\n",
              "      <td>NaN</td>\n",
              "      <td>NaN</td>\n",
              "    </tr>\n",
              "    <tr>\n",
              "      <th>bathrooms</th>\n",
              "      <td>NaN</td>\n",
              "      <td>NaN</td>\n",
              "      <td>NaN</td>\n",
              "      <td>1.0</td>\n",
              "      <td>NaN</td>\n",
              "      <td>NaN</td>\n",
              "      <td>NaN</td>\n",
              "      <td>NaN</td>\n",
              "      <td>NaN</td>\n",
              "      <td>NaN</td>\n",
              "      <td>NaN</td>\n",
              "      <td>NaN</td>\n",
              "      <td>NaN</td>\n",
              "      <td>NaN</td>\n",
              "    </tr>\n",
              "    <tr>\n",
              "      <th>stories</th>\n",
              "      <td>NaN</td>\n",
              "      <td>NaN</td>\n",
              "      <td>NaN</td>\n",
              "      <td>NaN</td>\n",
              "      <td>1.0</td>\n",
              "      <td>NaN</td>\n",
              "      <td>NaN</td>\n",
              "      <td>NaN</td>\n",
              "      <td>NaN</td>\n",
              "      <td>NaN</td>\n",
              "      <td>NaN</td>\n",
              "      <td>NaN</td>\n",
              "      <td>NaN</td>\n",
              "      <td>NaN</td>\n",
              "    </tr>\n",
              "    <tr>\n",
              "      <th>mainroad</th>\n",
              "      <td>NaN</td>\n",
              "      <td>NaN</td>\n",
              "      <td>NaN</td>\n",
              "      <td>NaN</td>\n",
              "      <td>NaN</td>\n",
              "      <td>1.0</td>\n",
              "      <td>NaN</td>\n",
              "      <td>NaN</td>\n",
              "      <td>NaN</td>\n",
              "      <td>NaN</td>\n",
              "      <td>NaN</td>\n",
              "      <td>NaN</td>\n",
              "      <td>NaN</td>\n",
              "      <td>NaN</td>\n",
              "    </tr>\n",
              "    <tr>\n",
              "      <th>guestroom</th>\n",
              "      <td>NaN</td>\n",
              "      <td>NaN</td>\n",
              "      <td>NaN</td>\n",
              "      <td>NaN</td>\n",
              "      <td>NaN</td>\n",
              "      <td>NaN</td>\n",
              "      <td>1.0</td>\n",
              "      <td>NaN</td>\n",
              "      <td>NaN</td>\n",
              "      <td>NaN</td>\n",
              "      <td>NaN</td>\n",
              "      <td>NaN</td>\n",
              "      <td>NaN</td>\n",
              "      <td>NaN</td>\n",
              "    </tr>\n",
              "    <tr>\n",
              "      <th>basement</th>\n",
              "      <td>NaN</td>\n",
              "      <td>NaN</td>\n",
              "      <td>NaN</td>\n",
              "      <td>NaN</td>\n",
              "      <td>NaN</td>\n",
              "      <td>NaN</td>\n",
              "      <td>NaN</td>\n",
              "      <td>1.0</td>\n",
              "      <td>NaN</td>\n",
              "      <td>NaN</td>\n",
              "      <td>NaN</td>\n",
              "      <td>NaN</td>\n",
              "      <td>NaN</td>\n",
              "      <td>NaN</td>\n",
              "    </tr>\n",
              "    <tr>\n",
              "      <th>hotwaterheating</th>\n",
              "      <td>NaN</td>\n",
              "      <td>NaN</td>\n",
              "      <td>NaN</td>\n",
              "      <td>NaN</td>\n",
              "      <td>NaN</td>\n",
              "      <td>NaN</td>\n",
              "      <td>NaN</td>\n",
              "      <td>NaN</td>\n",
              "      <td>1.0</td>\n",
              "      <td>NaN</td>\n",
              "      <td>NaN</td>\n",
              "      <td>NaN</td>\n",
              "      <td>NaN</td>\n",
              "      <td>NaN</td>\n",
              "    </tr>\n",
              "    <tr>\n",
              "      <th>airconditioning</th>\n",
              "      <td>NaN</td>\n",
              "      <td>NaN</td>\n",
              "      <td>NaN</td>\n",
              "      <td>NaN</td>\n",
              "      <td>NaN</td>\n",
              "      <td>NaN</td>\n",
              "      <td>NaN</td>\n",
              "      <td>NaN</td>\n",
              "      <td>NaN</td>\n",
              "      <td>1.0</td>\n",
              "      <td>NaN</td>\n",
              "      <td>NaN</td>\n",
              "      <td>NaN</td>\n",
              "      <td>NaN</td>\n",
              "    </tr>\n",
              "    <tr>\n",
              "      <th>parking</th>\n",
              "      <td>NaN</td>\n",
              "      <td>NaN</td>\n",
              "      <td>NaN</td>\n",
              "      <td>NaN</td>\n",
              "      <td>NaN</td>\n",
              "      <td>NaN</td>\n",
              "      <td>NaN</td>\n",
              "      <td>NaN</td>\n",
              "      <td>NaN</td>\n",
              "      <td>NaN</td>\n",
              "      <td>1.0</td>\n",
              "      <td>NaN</td>\n",
              "      <td>NaN</td>\n",
              "      <td>NaN</td>\n",
              "    </tr>\n",
              "    <tr>\n",
              "      <th>prefarea</th>\n",
              "      <td>NaN</td>\n",
              "      <td>NaN</td>\n",
              "      <td>NaN</td>\n",
              "      <td>NaN</td>\n",
              "      <td>NaN</td>\n",
              "      <td>NaN</td>\n",
              "      <td>NaN</td>\n",
              "      <td>NaN</td>\n",
              "      <td>NaN</td>\n",
              "      <td>NaN</td>\n",
              "      <td>NaN</td>\n",
              "      <td>1.0</td>\n",
              "      <td>NaN</td>\n",
              "      <td>NaN</td>\n",
              "    </tr>\n",
              "    <tr>\n",
              "      <th>semi-furnished</th>\n",
              "      <td>NaN</td>\n",
              "      <td>NaN</td>\n",
              "      <td>NaN</td>\n",
              "      <td>NaN</td>\n",
              "      <td>NaN</td>\n",
              "      <td>NaN</td>\n",
              "      <td>NaN</td>\n",
              "      <td>NaN</td>\n",
              "      <td>NaN</td>\n",
              "      <td>NaN</td>\n",
              "      <td>NaN</td>\n",
              "      <td>NaN</td>\n",
              "      <td>1.0</td>\n",
              "      <td>NaN</td>\n",
              "    </tr>\n",
              "    <tr>\n",
              "      <th>unfurnished</th>\n",
              "      <td>NaN</td>\n",
              "      <td>NaN</td>\n",
              "      <td>NaN</td>\n",
              "      <td>NaN</td>\n",
              "      <td>NaN</td>\n",
              "      <td>NaN</td>\n",
              "      <td>NaN</td>\n",
              "      <td>NaN</td>\n",
              "      <td>NaN</td>\n",
              "      <td>NaN</td>\n",
              "      <td>NaN</td>\n",
              "      <td>NaN</td>\n",
              "      <td>NaN</td>\n",
              "      <td>1.0</td>\n",
              "    </tr>\n",
              "  </tbody>\n",
              "</table>\n",
              "</div>\n",
              "      <button class=\"colab-df-convert\" onclick=\"convertToInteractive('df-9fd9f9c6-8eb0-437b-b91f-462385b98fa2')\"\n",
              "              title=\"Convert this dataframe to an interactive table.\"\n",
              "              style=\"display:none;\">\n",
              "        \n",
              "  <svg xmlns=\"http://www.w3.org/2000/svg\" height=\"24px\"viewBox=\"0 0 24 24\"\n",
              "       width=\"24px\">\n",
              "    <path d=\"M0 0h24v24H0V0z\" fill=\"none\"/>\n",
              "    <path d=\"M18.56 5.44l.94 2.06.94-2.06 2.06-.94-2.06-.94-.94-2.06-.94 2.06-2.06.94zm-11 1L8.5 8.5l.94-2.06 2.06-.94-2.06-.94L8.5 2.5l-.94 2.06-2.06.94zm10 10l.94 2.06.94-2.06 2.06-.94-2.06-.94-.94-2.06-.94 2.06-2.06.94z\"/><path d=\"M17.41 7.96l-1.37-1.37c-.4-.4-.92-.59-1.43-.59-.52 0-1.04.2-1.43.59L10.3 9.45l-7.72 7.72c-.78.78-.78 2.05 0 2.83L4 21.41c.39.39.9.59 1.41.59.51 0 1.02-.2 1.41-.59l7.78-7.78 2.81-2.81c.8-.78.8-2.07 0-2.86zM5.41 20L4 18.59l7.72-7.72 1.47 1.35L5.41 20z\"/>\n",
              "  </svg>\n",
              "      </button>\n",
              "      \n",
              "  <style>\n",
              "    .colab-df-container {\n",
              "      display:flex;\n",
              "      flex-wrap:wrap;\n",
              "      gap: 12px;\n",
              "    }\n",
              "\n",
              "    .colab-df-convert {\n",
              "      background-color: #E8F0FE;\n",
              "      border: none;\n",
              "      border-radius: 50%;\n",
              "      cursor: pointer;\n",
              "      display: none;\n",
              "      fill: #1967D2;\n",
              "      height: 32px;\n",
              "      padding: 0 0 0 0;\n",
              "      width: 32px;\n",
              "    }\n",
              "\n",
              "    .colab-df-convert:hover {\n",
              "      background-color: #E2EBFA;\n",
              "      box-shadow: 0px 1px 2px rgba(60, 64, 67, 0.3), 0px 1px 3px 1px rgba(60, 64, 67, 0.15);\n",
              "      fill: #174EA6;\n",
              "    }\n",
              "\n",
              "    [theme=dark] .colab-df-convert {\n",
              "      background-color: #3B4455;\n",
              "      fill: #D2E3FC;\n",
              "    }\n",
              "\n",
              "    [theme=dark] .colab-df-convert:hover {\n",
              "      background-color: #434B5C;\n",
              "      box-shadow: 0px 1px 3px 1px rgba(0, 0, 0, 0.15);\n",
              "      filter: drop-shadow(0px 1px 2px rgba(0, 0, 0, 0.3));\n",
              "      fill: #FFFFFF;\n",
              "    }\n",
              "  </style>\n",
              "\n",
              "      <script>\n",
              "        const buttonEl =\n",
              "          document.querySelector('#df-9fd9f9c6-8eb0-437b-b91f-462385b98fa2 button.colab-df-convert');\n",
              "        buttonEl.style.display =\n",
              "          google.colab.kernel.accessAllowed ? 'block' : 'none';\n",
              "\n",
              "        async function convertToInteractive(key) {\n",
              "          const element = document.querySelector('#df-9fd9f9c6-8eb0-437b-b91f-462385b98fa2');\n",
              "          const dataTable =\n",
              "            await google.colab.kernel.invokeFunction('convertToInteractive',\n",
              "                                                     [key], {});\n",
              "          if (!dataTable) return;\n",
              "\n",
              "          const docLinkHtml = 'Like what you see? Visit the ' +\n",
              "            '<a target=\"_blank\" href=https://colab.research.google.com/notebooks/data_table.ipynb>data table notebook</a>'\n",
              "            + ' to learn more about interactive tables.';\n",
              "          element.innerHTML = '';\n",
              "          dataTable['output_type'] = 'display_data';\n",
              "          await google.colab.output.renderOutput(dataTable, element);\n",
              "          const docLink = document.createElement('div');\n",
              "          docLink.innerHTML = docLinkHtml;\n",
              "          element.appendChild(docLink);\n",
              "        }\n",
              "      </script>\n",
              "    </div>\n",
              "  </div>\n",
              "  "
            ]
          },
          "metadata": {},
          "execution_count": 11
        }
      ],
      "source": [
        "corr_matrix[abs(corr_matrix) > 0.7]"
      ]
    },
    {
      "cell_type": "markdown",
      "source": [
        "### 3.3 Lọc bớt dữ liệu bằng 1.5IQR"
      ],
      "metadata": {
        "id": "EcjNyCH3d80S"
      }
    },
    {
      "cell_type": "code",
      "source": [
        "columns = ['area', 'bedrooms', 'bathrooms', 'stories', 'parking', 'price']\n",
        "mul = 1.7\n",
        "n_rows = math.ceil(len(columns)/3)\n",
        "fig, ax = plt.subplots(n_rows, 3, figsize=(18, 5 * n_rows))\n",
        "for i, col in enumerate(columns):\n",
        "    sns.boxplot(x = df_train[col], ax = ax[i//3, i%3])\n",
        "    Q1 = df_train[col].quantile(0.25)\n",
        "    Q3 = df_train[col].quantile(0.75)\n",
        "    IQR = Q3 - Q1\n",
        "    df_train = df_train[(df_train[col] >= Q1 - mul*IQR) & (df_train[col] <= Q3 + mul*IQR)]"
      ],
      "metadata": {
        "colab": {
          "base_uri": "https://localhost:8080/",
          "height": 606
        },
        "id": "uKLl_RGtcBqc",
        "outputId": "e78089ed-092d-4aab-dbc2-5c5a747fbdcb"
      },
      "execution_count": null,
      "outputs": [
        {
          "output_type": "display_data",
          "data": {
            "text/plain": [
              "<Figure size 1296x720 with 6 Axes>"
            ],
            "image/png": "[encoded data removed]"
          },
          "metadata": {
            "needs_background": "light"
          }
        }
      ]
    },
    {
      "cell_type": "code",
      "execution_count": null,
      "metadata": {
        "colab": {
          "base_uri": "https://localhost:8080/",
          "height": 382
        },
        "id": "qY4tAt-v8XjS",
        "outputId": "45ffdf4e-ac34-463e-c38a-96fdd544593f"
      },
      "outputs": [
        {
          "output_type": "execute_result",
          "data": {
            "text/plain": [
              "            price        area    bedrooms   bathrooms     stories    mainroad  \\\n",
              "count  318.000000  318.000000  318.000000  318.000000  318.000000  318.000000   \n",
              "mean    -0.254241   -0.192788   -0.146605   -0.157908   -0.217875    0.833333   \n",
              "std      0.723156    0.848986    0.890742    0.874863    0.734031    0.373265   \n",
              "min     -1.653954   -1.593480   -2.625693   -0.575844   -0.911674    0.000000   \n",
              "25%     -0.780867   -0.785302   -1.266469   -0.575844   -0.911674    1.000000   \n",
              "50%     -0.317852   -0.495106    0.092755   -0.575844    0.219752    1.000000   \n",
              "75%      0.194256    0.428907    0.092755   -0.575844    0.219752    1.000000   \n",
              "max      2.003961    2.614483    1.451980    3.643319    1.351178    1.000000   \n",
              "\n",
              "        guestroom    basement  hotwaterheating  airconditioning     parking  \\\n",
              "count  318.000000  318.000000       318.000000       318.000000  318.000000   \n",
              "mean     0.157233    0.361635         0.047170         0.238994   -0.136541   \n",
              "std      0.364594    0.481231         0.212336         0.427141    0.902878   \n",
              "min      0.000000    0.000000         0.000000         0.000000   -0.848672   \n",
              "25%      0.000000    0.000000         0.000000         0.000000   -0.848672   \n",
              "50%      0.000000    0.000000         0.000000         0.000000   -0.848672   \n",
              "75%      0.000000    1.000000         0.000000         0.000000    0.318635   \n",
              "max      1.000000    1.000000         1.000000         1.000000    1.485941   \n",
              "\n",
              "         prefarea  semi-furnished  unfurnished  \n",
              "count  318.000000      318.000000   318.000000  \n",
              "mean     0.220126        0.430818     0.339623  \n",
              "std      0.414984        0.495971     0.474328  \n",
              "min      0.000000        0.000000     0.000000  \n",
              "25%      0.000000        0.000000     0.000000  \n",
              "50%      0.000000        0.000000     0.000000  \n",
              "75%      0.000000        1.000000     1.000000  \n",
              "max      1.000000        1.000000     1.000000  "
            ],
            "text/html": [
              "\n",
              "  <div id=\"df-5de0538e-3cd6-4116-8416-1e68c7848484\">\n",
              "    <div class=\"colab-df-container\">\n",
              "      <div>\n",
              "<style scoped>\n",
              "    .dataframe tbody tr th:only-of-type {\n",
              "        vertical-align: middle;\n",
              "    }\n",
              "\n",
              "    .dataframe tbody tr th {\n",
              "        vertical-align: top;\n",
              "    }\n",
              "\n",
              "    .dataframe thead th {\n",
              "        text-align: right;\n",
              "    }\n",
              "</style>\n",
              "<table border=\"1\" class=\"dataframe\">\n",
              "  <thead>\n",
              "    <tr style=\"text-align: right;\">\n",
              "      <th></th>\n",
              "      <th>price</th>\n",
              "      <th>area</th>\n",
              "      <th>bedrooms</th>\n",
              "      <th>bathrooms</th>\n",
              "      <th>stories</th>\n",
              "      <th>mainroad</th>\n",
              "      <th>guestroom</th>\n",
              "      <th>basement</th>\n",
              "      <th>hotwaterheating</th>\n",
              "      <th>airconditioning</th>\n",
              "      <th>parking</th>\n",
              "      <th>prefarea</th>\n",
              "      <th>semi-furnished</th>\n",
              "      <th>unfurnished</th>\n",
              "    </tr>\n",
              "  </thead>\n",
              "  <tbody>\n",
              "    <tr>\n",
              "      <th>count</th>\n",
              "      <td>318.000000</td>\n",
              "      <td>318.000000</td>\n",
              "      <td>318.000000</td>\n",
              "      <td>318.000000</td>\n",
              "      <td>318.000000</td>\n",
              "      <td>318.000000</td>\n",
              "      <td>318.000000</td>\n",
              "      <td>318.000000</td>\n",
              "      <td>318.000000</td>\n",
              "      <td>318.000000</td>\n",
              "      <td>318.000000</td>\n",
              "      <td>318.000000</td>\n",
              "      <td>318.000000</td>\n",
              "      <td>318.000000</td>\n",
              "    </tr>\n",
              "    <tr>\n",
              "      <th>mean</th>\n",
              "      <td>-0.254241</td>\n",
              "      <td>-0.192788</td>\n",
              "      <td>-0.146605</td>\n",
              "      <td>-0.157908</td>\n",
              "      <td>-0.217875</td>\n",
              "      <td>0.833333</td>\n",
              "      <td>0.157233</td>\n",
              "      <td>0.361635</td>\n",
              "      <td>0.047170</td>\n",
              "      <td>0.238994</td>\n",
              "      <td>-0.136541</td>\n",
              "      <td>0.220126</td>\n",
              "      <td>0.430818</td>\n",
              "      <td>0.339623</td>\n",
              "    </tr>\n",
              "    <tr>\n",
              "      <th>std</th>\n",
              "      <td>0.723156</td>\n",
              "      <td>0.848986</td>\n",
              "      <td>0.890742</td>\n",
              "      <td>0.874863</td>\n",
              "      <td>0.734031</td>\n",
              "      <td>0.373265</td>\n",
              "      <td>0.364594</td>\n",
              "      <td>0.481231</td>\n",
              "      <td>0.212336</td>\n",
              "      <td>0.427141</td>\n",
              "      <td>0.902878</td>\n",
              "      <td>0.414984</td>\n",
              "      <td>0.495971</td>\n",
              "      <td>0.474328</td>\n",
              "    </tr>\n",
              "    <tr>\n",
              "      <th>min</th>\n",
              "      <td>-1.653954</td>\n",
              "      <td>-1.593480</td>\n",
              "      <td>-2.625693</td>\n",
              "      <td>-0.575844</td>\n",
              "      <td>-0.911674</td>\n",
              "      <td>0.000000</td>\n",
              "      <td>0.000000</td>\n",
              "      <td>0.000000</td>\n",
              "      <td>0.000000</td>\n",
              "      <td>0.000000</td>\n",
              "      <td>-0.848672</td>\n",
              "      <td>0.000000</td>\n",
              "      <td>0.000000</td>\n",
              "      <td>0.000000</td>\n",
              "    </tr>\n",
              "    <tr>\n",
              "      <th>25%</th>\n",
              "      <td>-0.780867</td>\n",
              "      <td>-0.785302</td>\n",
              "      <td>-1.266469</td>\n",
              "      <td>-0.575844</td>\n",
              "      <td>-0.911674</td>\n",
              "      <td>1.000000</td>\n",
              "      <td>0.000000</td>\n",
              "      <td>0.000000</td>\n",
              "      <td>0.000000</td>\n",
              "      <td>0.000000</td>\n",
              "      <td>-0.848672</td>\n",
              "      <td>0.000000</td>\n",
              "      <td>0.000000</td>\n",
              "      <td>0.000000</td>\n",
              "    </tr>\n",
              "    <tr>\n",
              "      <th>50%</th>\n",
              "      <td>-0.317852</td>\n",
              "      <td>-0.495106</td>\n",
              "      <td>0.092755</td>\n",
              "      <td>-0.575844</td>\n",
              "      <td>0.219752</td>\n",
              "      <td>1.000000</td>\n",
              "      <td>0.000000</td>\n",
              "      <td>0.000000</td>\n",
              "      <td>0.000000</td>\n",
              "      <td>0.000000</td>\n",
              "      <td>-0.848672</td>\n",
              "      <td>0.000000</td>\n",
              "      <td>0.000000</td>\n",
              "      <td>0.000000</td>\n",
              "    </tr>\n",
              "    <tr>\n",
              "      <th>75%</th>\n",
              "      <td>0.194256</td>\n",
              "      <td>0.428907</td>\n",
              "      <td>0.092755</td>\n",
              "      <td>-0.575844</td>\n",
              "      <td>0.219752</td>\n",
              "      <td>1.000000</td>\n",
              "      <td>0.000000</td>\n",
              "      <td>1.000000</td>\n",
              "      <td>0.000000</td>\n",
              "      <td>0.000000</td>\n",
              "      <td>0.318635</td>\n",
              "      <td>0.000000</td>\n",
              "      <td>1.000000</td>\n",
              "      <td>1.000000</td>\n",
              "    </tr>\n",
              "    <tr>\n",
              "      <th>max</th>\n",
              "      <td>2.003961</td>\n",
              "      <td>2.614483</td>\n",
              "      <td>1.451980</td>\n",
              "      <td>3.643319</td>\n",
              "      <td>1.351178</td>\n",
              "      <td>1.000000</td>\n",
              "      <td>1.000000</td>\n",
              "      <td>1.000000</td>\n",
              "      <td>1.000000</td>\n",
              "      <td>1.000000</td>\n",
              "      <td>1.485941</td>\n",
              "      <td>1.000000</td>\n",
              "      <td>1.000000</td>\n",
              "      <td>1.000000</td>\n",
              "    </tr>\n",
              "  </tbody>\n",
              "</table>\n",
              "</div>\n",
              "      <button class=\"colab-df-convert\" onclick=\"convertToInteractive('df-5de0538e-3cd6-4116-8416-1e68c7848484')\"\n",
              "              title=\"Convert this dataframe to an interactive table.\"\n",
              "              style=\"display:none;\">\n",
              "        \n",
              "  <svg xmlns=\"http://www.w3.org/2000/svg\" height=\"24px\"viewBox=\"0 0 24 24\"\n",
              "       width=\"24px\">\n",
              "    <path d=\"M0 0h24v24H0V0z\" fill=\"none\"/>\n",
              "    <path d=\"M18.56 5.44l.94 2.06.94-2.06 2.06-.94-2.06-.94-.94-2.06-.94 2.06-2.06.94zm-11 1L8.5 8.5l.94-2.06 2.06-.94-2.06-.94L8.5 2.5l-.94 2.06-2.06.94zm10 10l.94 2.06.94-2.06 2.06-.94-2.06-.94-.94-2.06-.94 2.06-2.06.94z\"/><path d=\"M17.41 7.96l-1.37-1.37c-.4-.4-.92-.59-1.43-.59-.52 0-1.04.2-1.43.59L10.3 9.45l-7.72 7.72c-.78.78-.78 2.05 0 2.83L4 21.41c.39.39.9.59 1.41.59.51 0 1.02-.2 1.41-.59l7.78-7.78 2.81-2.81c.8-.78.8-2.07 0-2.86zM5.41 20L4 18.59l7.72-7.72 1.47 1.35L5.41 20z\"/>\n",
              "  </svg>\n",
              "      </button>\n",
              "      \n",
              "  <style>\n",
              "    .colab-df-container {\n",
              "      display:flex;\n",
              "      flex-wrap:wrap;\n",
              "      gap: 12px;\n",
              "    }\n",
              "\n",
              "    .colab-df-convert {\n",
              "      background-color: #E8F0FE;\n",
              "      border: none;\n",
              "      border-radius: 50%;\n",
              "      cursor: pointer;\n",
              "      display: none;\n",
              "      fill: #1967D2;\n",
              "      height: 32px;\n",
              "      padding: 0 0 0 0;\n",
              "      width: 32px;\n",
              "    }\n",
              "\n",
              "    .colab-df-convert:hover {\n",
              "      background-color: #E2EBFA;\n",
              "      box-shadow: 0px 1px 2px rgba(60, 64, 67, 0.3), 0px 1px 3px 1px rgba(60, 64, 67, 0.15);\n",
              "      fill: #174EA6;\n",
              "    }\n",
              "\n",
              "    [theme=dark] .colab-df-convert {\n",
              "      background-color: #3B4455;\n",
              "      fill: #D2E3FC;\n",
              "    }\n",
              "\n",
              "    [theme=dark] .colab-df-convert:hover {\n",
              "      background-color: #434B5C;\n",
              "      box-shadow: 0px 1px 3px 1px rgba(0, 0, 0, 0.15);\n",
              "      filter: drop-shadow(0px 1px 2px rgba(0, 0, 0, 0.3));\n",
              "      fill: #FFFFFF;\n",
              "    }\n",
              "  </style>\n",
              "\n",
              "      <script>\n",
              "        const buttonEl =\n",
              "          document.querySelector('#df-5de0538e-3cd6-4116-8416-1e68c7848484 button.colab-df-convert');\n",
              "        buttonEl.style.display =\n",
              "          google.colab.kernel.accessAllowed ? 'block' : 'none';\n",
              "\n",
              "        async function convertToInteractive(key) {\n",
              "          const element = document.querySelector('#df-5de0538e-3cd6-4116-8416-1e68c7848484');\n",
              "          const dataTable =\n",
              "            await google.colab.kernel.invokeFunction('convertToInteractive',\n",
              "                                                     [key], {});\n",
              "          if (!dataTable) return;\n",
              "\n",
              "          const docLinkHtml = 'Like what you see? Visit the ' +\n",
              "            '<a target=\"_blank\" href=https://colab.research.google.com/notebooks/data_table.ipynb>data table notebook</a>'\n",
              "            + ' to learn more about interactive tables.';\n",
              "          element.innerHTML = '';\n",
              "          dataTable['output_type'] = 'display_data';\n",
              "          await google.colab.output.renderOutput(dataTable, element);\n",
              "          const docLink = document.createElement('div');\n",
              "          docLink.innerHTML = docLinkHtml;\n",
              "          element.appendChild(docLink);\n",
              "        }\n",
              "      </script>\n",
              "    </div>\n",
              "  </div>\n",
              "  "
            ]
          },
          "metadata": {},
          "execution_count": 14
        }
      ],
      "source": [
        "df_train.describe()"
      ]
    },
    {
      "cell_type": "code",
      "execution_count": null,
      "metadata": {
        "id": "ZZNDR4RCW4jN"
      },
      "outputs": [],
      "source": [
        "y_train = df_train.pop('price')\n",
        "X_train = df_train"
      ]
    },
    {
      "cell_type": "markdown",
      "metadata": {
        "id": "E3LRRxx5tNgG"
      },
      "source": [
        "# 4. Xây dựng mô hình\n"
      ]
    },
    {
      "cell_type": "markdown",
      "metadata": {
        "id": "4x2vVax9wvDt"
      },
      "source": [
        "### 4.1 Sử dụng bình phương cực tiểu (OLS) với tất cả biến dự đoán"
      ]
    },
    {
      "cell_type": "code",
      "execution_count": null,
      "metadata": {
        "colab": {
          "base_uri": "https://localhost:8080/"
        },
        "id": "C9CsRJhI8IeF",
        "outputId": "2b89a1a6-fada-496f-bfe5-2407833a1521"
      },
      "outputs": [
        {
          "output_type": "stream",
          "name": "stdout",
          "text": [
            "                            OLS Regression Results                            \n",
            "==============================================================================\n",
            "Dep. Variable:                  price   R-squared:                       0.633\n",
            "Model:                            OLS   Adj. R-squared:                  0.618\n",
            "Method:                 Least Squares   F-statistic:                     40.41\n",
            "Date:                Fri, 23 Dec 2022   Prob (F-statistic):           1.84e-58\n",
            "Time:                        00:53:10   Log-Likelihood:                -188.09\n",
            "No. Observations:                 318   AIC:                             404.2\n",
            "Df Residuals:                     304   BIC:                             456.8\n",
            "Df Model:                          13                                         \n",
            "Covariance Type:            nonrobust                                         \n",
            "===================================================================================\n",
            "                      coef    std err          t      P>|t|      [0.025      0.975]\n",
            "-----------------------------------------------------------------------------------\n",
            "const              -0.5538      0.091     -6.065      0.000      -0.733      -0.374\n",
            "area                0.2764      0.034      8.037      0.000       0.209       0.344\n",
            "bedrooms            0.0307      0.035      0.880      0.380      -0.038       0.099\n",
            "bathrooms           0.2075      0.031      6.733      0.000       0.147       0.268\n",
            "stories             0.1743      0.042      4.133      0.000       0.091       0.257\n",
            "mainroad            0.2965      0.073      4.052      0.000       0.153       0.441\n",
            "guestroom           0.1068      0.078      1.369      0.172      -0.047       0.260\n",
            "basement            0.1600      0.060      2.653      0.008       0.041       0.279\n",
            "hotwaterheating     0.3824      0.121      3.148      0.002       0.143       0.621\n",
            "airconditioning     0.2704      0.063      4.313      0.000       0.147       0.394\n",
            "parking             0.0647      0.030      2.159      0.032       0.006       0.124\n",
            "prefarea            0.2703      0.065      4.132      0.000       0.142       0.399\n",
            "semi-furnished      0.0847      0.066      1.288      0.199      -0.045       0.214\n",
            "unfurnished        -0.1870      0.071     -2.651      0.008      -0.326      -0.048\n",
            "==============================================================================\n",
            "Omnibus:                       29.874   Durbin-Watson:                   2.102\n",
            "Prob(Omnibus):                  0.000   Jarque-Bera (JB):               44.640\n",
            "Skew:                           0.621   Prob(JB):                     2.03e-10\n",
            "Kurtosis:                       4.352   Cond. No.                         8.09\n",
            "==============================================================================\n",
            "\n",
            "Notes:\n",
            "[1] Standard Errors assume that the covariance matrix of the errors is correctly specified.\n"
          ]
        }
      ],
      "source": [
        "X_train = sm.add_constant(X_train)\n",
        "lm = sm.OLS(y_train, X_train).fit()\n",
        "print(lm.summary())"
      ]
    },
    {
      "cell_type": "markdown",
      "source": [
        "*Nhận xét:*\n",
        "- Theo kết quả chạy ở trên có một vài biến như 'bedrooms', 'semi-furnished' là có p-value khá lớn, có nghĩa là hệ số hồi quy tương ứng có thể là 0 (biến có thể không ảnh hưởng đến mô hình)\n",
        "- Theo tiêu chuẩn Durbin-Watson các sai số không tương quan cấp 1\n",
        "- F-statistic và p-value rất bé nên ta bác bỏ giả thuyết $β_1 = · · · = β_{13} = 0$\n"
      ],
      "metadata": {
        "id": "-0HWphl_En_P"
      }
    },
    {
      "cell_type": "markdown",
      "metadata": {
        "id": "F3p0NBpedZOE"
      },
      "source": [
        "### 4.2 Chọn lọc biến dự đoán"
      ]
    },
    {
      "cell_type": "code",
      "execution_count": null,
      "metadata": {
        "id": "USrn5ZAwdZOL"
      },
      "outputs": [],
      "source": [
        "def mixed_selection(curr_preds, potential_preds, predictors, response, tol=.05):\n",
        "    lm = sm.OLS(response, predictors[curr_preds]).fit()\n",
        "    while potential_preds != []:\n",
        "        best_pred = None                    # this will record the best predictor\n",
        "        best_r_squared = lm.rsquared_adj    # record the r squared of the current model\n",
        "        # loop to determine if any of the predictors can better the r-squared  \n",
        "        for pred in potential_preds:\n",
        "            preds = curr_preds[:] + [pred]\n",
        "            new_r_squared = sm.OLS(response, predictors[preds]).fit().rsquared_adj  # record r squared for new model\n",
        "            if new_r_squared > best_r_squared:\n",
        "                best_r_squared = new_r_squared\n",
        "                best_pred = pred\n",
        "\n",
        "        if best_pred != None:               # a potential predictor improved the r-squared; remove it from potential_preds and add it to current_preds\n",
        "            curr_preds.append(best_pred)\n",
        "            potential_preds.remove(best_pred)\n",
        "        else:                               # none of the remaining potential predictors improved the adjust r-squared; exit loop\n",
        "            break\n",
        "\n",
        "        # fit a new lm using the new predictors, look at the p-values\n",
        "        pvals = sm.OLS(response, predictors[curr_preds]).fit().pvalues    # the two-tailed p values for the t-stats of the params.\n",
        "\n",
        "        # remove the feature from curr_preds that have a p-value that is too large\n",
        "        for feat in pvals.index:\n",
        "            if pvals[feat] > tol and feat != 'const':\n",
        "                curr_preds.remove(feat)\n",
        "    return curr_preds"
      ]
    },
    {
      "cell_type": "code",
      "execution_count": null,
      "metadata": {
        "colab": {
          "base_uri": "https://localhost:8080/"
        },
        "id": "ykkOhgdjdZOL",
        "outputId": "b823e49c-d76a-4226-97c2-3e4c1405045f"
      },
      "outputs": [
        {
          "output_type": "stream",
          "name": "stdout",
          "text": [
            "['area', 'bedrooms', 'bathrooms', 'stories', 'mainroad', 'guestroom', 'basement', 'hotwaterheating', 'airconditioning', 'parking', 'prefarea', 'semi-furnished', 'unfurnished']\n"
          ]
        }
      ],
      "source": [
        "curr_preds = ['const']\n",
        "potential_preds = list(lm.params.index)\n",
        "potential_preds.remove('const')\n",
        "print(potential_preds)"
      ]
    },
    {
      "cell_type": "code",
      "execution_count": null,
      "metadata": {
        "colab": {
          "base_uri": "https://localhost:8080/"
        },
        "id": "pMaQ7pCgdZOM",
        "outputId": "a4efb243-24d1-40d8-f744-ee30bf3a29af"
      },
      "outputs": [
        {
          "output_type": "execute_result",
          "data": {
            "text/plain": [
              "['const',\n",
              " 'area',\n",
              " 'bathrooms',\n",
              " 'stories',\n",
              " 'unfurnished',\n",
              " 'prefarea',\n",
              " 'mainroad',\n",
              " 'airconditioning',\n",
              " 'basement',\n",
              " 'hotwaterheating',\n",
              " 'parking']"
            ]
          },
          "metadata": {},
          "execution_count": 19
        }
      ],
      "source": [
        "mixed_selection(curr_preds=curr_preds, potential_preds=potential_preds,predictors=X_train, response=y_train, tol=.05)"
      ]
    },
    {
      "cell_type": "markdown",
      "metadata": {
        "id": "J9U-xk6XtTl5"
      },
      "source": [
        "### 4.3 Khảo sát phần dư"
      ]
    },
    {
      "cell_type": "code",
      "execution_count": null,
      "metadata": {
        "id": "3R5WnRFW0y2r"
      },
      "outputs": [],
      "source": [
        "y_train_pred = lm.predict(X_train)    # hat y\n",
        "res = y_train - y_train_pred          # hat epsilon"
      ]
    },
    {
      "cell_type": "code",
      "execution_count": null,
      "metadata": {
        "colab": {
          "base_uri": "https://localhost:8080/",
          "height": 287
        },
        "id": "s0FK3dHX0_KK",
        "outputId": "71c784ed-77f2-460f-ed52-f931870f9d86"
      },
      "outputs": [
        {
          "output_type": "display_data",
          "data": {
            "text/plain": [
              "<Figure size 432x288 with 1 Axes>"
            ],
            "image/png": "[encoded data removed]"
          },
          "metadata": {
            "needs_background": "light"
          }
        }
      ],
      "source": [
        "# Plot the histogram of the error terms\n",
        "fig = plt.figure()\n",
        "sns.histplot(res, bins = 20, kde=True, stat=\"density\")\n",
        "                 \n",
        "plt.xlabel('Errors', fontsize = 18)\n",
        "plt.show()"
      ]
    },
    {
      "cell_type": "code",
      "execution_count": null,
      "metadata": {
        "colab": {
          "base_uri": "https://localhost:8080/",
          "height": 288
        },
        "id": "_trB2_hg0tQm",
        "outputId": "f7bf3de9-6bbf-4a7d-9447-568bc653ee7e"
      },
      "outputs": [
        {
          "output_type": "display_data",
          "data": {
            "text/plain": [
              "<Figure size 432x288 with 1 Axes>"
            ],
            "image/png": "[encoded data removed]"
          },
          "metadata": {
            "needs_background": "light"
          }
        }
      ],
      "source": [
        "plt.rcParams['text.usetex'] = False\n",
        "plt.scatter(y_train,res)\n",
        "plt.xlabel('y_train',  fontsize = 18)\n",
        "plt.ylabel('res',  fontsize = 18)\n",
        "plt.show()"
      ]
    },
    {
      "cell_type": "code",
      "execution_count": null,
      "metadata": {
        "colab": {
          "base_uri": "https://localhost:8080/",
          "height": 295
        },
        "id": "qJ890fOxiVvm",
        "outputId": "a604982f-4fb9-47db-c236-bc9e4970a724"
      },
      "outputs": [
        {
          "output_type": "display_data",
          "data": {
            "text/plain": [
              "<Figure size 432x288 with 1 Axes>"
            ],
            "image/png": "[encoded data removed]"
          },
          "metadata": {
            "needs_background": "light"
          }
        }
      ],
      "source": [
        "import pylab \n",
        "# Q-Q plot\n",
        "scipy.stats.probplot(res, dist=\"norm\", plot=pylab)\n",
        "pylab.show()"
      ]
    },
    {
      "cell_type": "markdown",
      "source": [
        "Xét giả thuyết $H_0:$ $\\varepsilon \\sim N(0, σ^2In)$ hay $\\hat{\\varepsilon} \\sim N(0, σ^2\n",
        "(I − H))$"
      ],
      "metadata": {
        "id": "wMwZRc01u5_i"
      }
    },
    {
      "cell_type": "code",
      "source": [
        "from scipy.stats import t\n",
        "def student_test(model, alpha):\n",
        "    n = int(model.df_model + model.df_resid + 1)\n",
        "    r = int(model.df_model)\n",
        "    Z = np.asmatrix(X_train.copy()).reshape(n, r + 1)\n",
        "    Y = np.asmatrix(y_train.copy()).reshape(n, 1)\n",
        "    B = np.linalg.inv((Z.T).dot(Z)).dot(Z.T).dot(Y)\n",
        "    H = Z.dot(np.linalg.inv((Z.T).dot(Z)).dot(Z.T))\n",
        "    IH = np.eye(H.shape[0]) - H             # I - H\n",
        "    v, e = np.linalg.eig(IH)                \n",
        "    Eps = Y - Z.dot(B)                      # hat epsilon\n",
        "    E = e.T.dot(Eps)                        # e = P^T.epsilon\n",
        "    e_m = np.mean(E)\n",
        "    e_i2 = np.sum(np.power(E, 2))           # sum of e_i^2\n",
        "    T = n*e_m*np.sqrt((n-r-2)/(np.abs(n**2*e_m**2 - (n-r-1)*e_i2)))\n",
        "    pt = t.ppf(1 - alpha/2, n - r - 2)\n",
        "    return abs(np.asscalar(np.real(T))), pt, abs(np.asscalar(np.real(T))) > pt"
      ],
      "metadata": {
        "id": "2UwqRVIKu2Cp"
      },
      "execution_count": null,
      "outputs": []
    },
    {
      "cell_type": "markdown",
      "source": [
        "Nếu kết quả trả về là 'False' thì nghĩa là $H_0$ không bị bác bỏ"
      ],
      "metadata": {
        "id": "pjjWrIuW3uKv"
      }
    },
    {
      "cell_type": "code",
      "source": [
        "student_test(lm, 0.05)"
      ],
      "metadata": {
        "colab": {
          "base_uri": "https://localhost:8080/"
        },
        "id": "cPR1N_0hzY_j",
        "outputId": "e6caded4-d905-4a63-ec1d-cfc2e3c58345"
      },
      "execution_count": null,
      "outputs": [
        {
          "output_type": "execute_result",
          "data": {
            "text/plain": [
              "(0.5651477318198039, 1.9678240977517993, False)"
            ]
          },
          "metadata": {},
          "execution_count": 25
        }
      ]
    },
    {
      "cell_type": "markdown",
      "metadata": {
        "id": "f3Z1aFcvvHj2"
      },
      "source": [
        "#### Xử lý Leverage"
      ]
    },
    {
      "cell_type": "code",
      "execution_count": null,
      "metadata": {
        "colab": {
          "base_uri": "https://localhost:8080/",
          "height": 902
        },
        "id": "i1IOdAwwtZDX",
        "outputId": "4bbcf2f8-3d52-4baa-a11a-1796d368a1d0"
      },
      "outputs": [
        {
          "output_type": "stream",
          "name": "stdout",
          "text": [
            "     dfb_const  dfb_area  dfb_bedrooms  dfb_bathrooms  dfb_stories  \\\n",
            "359  -0.018670 -0.035713      0.056071      -0.007636    -0.057421   \n",
            "159  -0.005674 -0.072839      0.022325       0.062771    -0.065317   \n",
            "267   0.001695  0.002421      0.001122      -0.004032     0.004354   \n",
            "263   0.143750  0.046094     -0.001467      -0.043474     0.051039   \n",
            "433  -0.026680  0.001212     -0.023582       0.012563     0.001433   \n",
            "\n",
            "     dfb_mainroad  dfb_guestroom  dfb_basement  dfb_hotwaterheating  \\\n",
            "359      0.041493       0.002681     -0.034420            -0.007912   \n",
            "159      0.038624       0.077673     -0.006387            -0.001187   \n",
            "267      0.002803      -0.000484     -0.003966            -0.004128   \n",
            "263     -0.163824      -0.002718     -0.023185            -0.029027   \n",
            "433      0.028266      -0.002903      0.008762             0.006818   \n",
            "\n",
            "     dfb_airconditioning  dfb_parking  dfb_prefarea  dfb_semi-furnished  \\\n",
            "359            -0.008421     0.024971     -0.011802           -0.003632   \n",
            "159             0.062649    -0.033123     -0.025363           -0.061966   \n",
            "267            -0.005087     0.004065     -0.004717            0.006911   \n",
            "263            -0.046890    -0.028675     -0.011697            0.051439   \n",
            "433             0.010395    -0.011907      0.003155           -0.007549   \n",
            "\n",
            "     dfb_unfurnished   cooks_d  standard_resid  hat_diag  dffits_internal  \\\n",
            "359         0.040742  0.000943        0.740023  0.023533         0.114883   \n",
            "159        -0.057147  0.002105        0.612211  0.072883         0.171652   \n",
            "267        -0.000184  0.000022        0.139956  0.015258         0.017421   \n",
            "263        -0.030889  0.003663        1.285037  0.030120         0.226457   \n",
            "433         0.004544  0.000171       -0.233096  0.042176        -0.048913   \n",
            "\n",
            "     student_resid    dffits  \n",
            "359       0.739471  0.114798  \n",
            "159       0.611581  0.171475  \n",
            "267       0.139730  0.017393  \n",
            "263       1.286420  0.226700  \n",
            "433      -0.232733 -0.048837  \n",
            "Leverage vs. Studentized Residuals\n"
          ]
        },
        {
          "output_type": "display_data",
          "data": {
            "text/plain": [
              "<Figure size 432x288 with 1 Axes>"
            ],
            "image/png": "[encoded data removed]"
          },
          "metadata": {
            "needs_background": "light"
          }
        }
      ],
      "source": [
        "influence = lm.get_influence()\n",
        "inf_sum = influence.summary_frame()\n",
        "print(inf_sum.head())\n",
        "\n",
        "student_resid = influence.resid_studentized_external\n",
        "(cooks, p) = influence.cooks_distance\n",
        "(dffits, p) = influence.dffits\n",
        "leverage = influence.hat_matrix_diag\n",
        "\n",
        "X_train['leverage'] = leverage\n",
        "X_train['student_resid'] = student_resid\n",
        "\n",
        "print('Leverage vs. Studentized Residuals')\n",
        "sns.regplot(x = leverage, y = lm.resid_pearson, fit_reg = False)\n",
        "plt.title('Leverage vs. Studentized Residuals')\n",
        "plt.xlabel('Leverage')\n",
        "plt.ylabel('Studentized Residuals')\n",
        "plt.show()"
      ]
    },
    {
      "cell_type": "code",
      "execution_count": null,
      "metadata": {
        "id": "m-rbzy-itpDA"
      },
      "outputs": [],
      "source": [
        "num_ol = X_train[abs(X_train['leverage']) > (2 * X_train.shape[1]) / X_train.shape[0]]\n",
        "# Remove high Leverage points\n",
        "X_train.drop([x for x in num_ol.index], inplace = True)\n",
        "y_train.drop([x for x in num_ol.index], inplace = True)\n",
        "X_train.drop(['leverage', 'student_resid'], axis = 1, inplace = True)"
      ]
    },
    {
      "cell_type": "markdown",
      "source": [
        "### 4.4 Chạy mô hình sau khi chọn lọc biến và loại bỏ outlier"
      ],
      "metadata": {
        "id": "Vm2Mi5bAlQWe"
      }
    },
    {
      "cell_type": "code",
      "execution_count": null,
      "metadata": {
        "colab": {
          "base_uri": "https://localhost:8080/"
        },
        "id": "ZsQorL8Kt0If",
        "outputId": "9d9f9311-7eed-40e8-a8cc-735af0368ed4"
      },
      "outputs": [
        {
          "output_type": "stream",
          "name": "stdout",
          "text": [
            "                            OLS Regression Results                            \n",
            "==============================================================================\n",
            "Dep. Variable:                  price   R-squared:                       0.621\n",
            "Model:                            OLS   Adj. R-squared:                  0.609\n",
            "Method:                 Least Squares   F-statistic:                     49.41\n",
            "Date:                Fri, 23 Dec 2022   Prob (F-statistic):           1.13e-57\n",
            "Time:                        00:53:13   Log-Likelihood:                -186.14\n",
            "No. Observations:                 312   AIC:                             394.3\n",
            "Df Residuals:                     301   BIC:                             435.4\n",
            "Df Model:                          10                                         \n",
            "Covariance Type:            nonrobust                                         \n",
            "===================================================================================\n",
            "                      coef    std err          t      P>|t|      [0.025      0.975]\n",
            "-----------------------------------------------------------------------------------\n",
            "const              -0.4623      0.079     -5.887      0.000      -0.617      -0.308\n",
            "area                0.2863      0.034      8.349      0.000       0.219       0.354\n",
            "bathrooms           0.2328      0.032      7.265      0.000       0.170       0.296\n",
            "stories             0.1900      0.037      5.168      0.000       0.118       0.262\n",
            "unfurnished        -0.2331      0.056     -4.181      0.000      -0.343      -0.123\n",
            "prefarea            0.2672      0.066      4.071      0.000       0.138       0.396\n",
            "mainroad            0.2638      0.074      3.582      0.000       0.119       0.409\n",
            "airconditioning     0.2572      0.063      4.111      0.000       0.134       0.380\n",
            "basement            0.2031      0.056      3.605      0.000       0.092       0.314\n",
            "hotwaterheating     0.4336      0.148      2.935      0.004       0.143       0.724\n",
            "parking             0.0587      0.030      1.955      0.051      -0.000       0.118\n",
            "==============================================================================\n",
            "Omnibus:                       29.198   Durbin-Watson:                   2.095\n",
            "Prob(Omnibus):                  0.000   Jarque-Bera (JB):               42.854\n",
            "Skew:                           0.624   Prob(JB):                     4.95e-10\n",
            "Kurtosis:                       4.318   Cond. No.                         8.92\n",
            "==============================================================================\n",
            "\n",
            "Notes:\n",
            "[1] Standard Errors assume that the covariance matrix of the errors is correctly specified.\n"
          ]
        }
      ],
      "source": [
        "# Model after selecting a mixture of predictors and removing outliers\n",
        "lm_1 = sm.OLS(y_train,X_train[curr_preds]).fit()\n",
        "print(lm_1.summary())"
      ]
    },
    {
      "cell_type": "markdown",
      "source": [
        "*Nhận xét:*\n",
        "- Dựa vào F-statistic, ta bác bỏ giả thuyết $β_1 = · · · = β_{10} = 0$\n",
        "\n",
        "- Các p-value ứng với t-statistic trong kết quả chạy mô hình trên đều khá bé nên ta bác bỏ giả thuyết $\\beta_i = 0$ với mọi $i=\\overline{1, 10}$\n",
        "- Theo tiêu chuẩn Durbin-Watson thì các sai số cũng không có sự tương quan cấp 1"
      ],
      "metadata": {
        "id": "exfkWQpHxoyZ"
      }
    },
    {
      "cell_type": "markdown",
      "source": [
        "#### Xác định khoảng tin cậy của hệ số hồi quy\n",
        "Khoảng tin cậy $100(1-α)\\%$ của $β_i$ được xác định bởi\n",
        "$$βi ± \\sqrt{(s^2(Z'Z)^{−1})_{(i+1)(i+1)}(r + 1)F_{r+1,n−r−1}(α)}$$\n",
        "\n",
        "hoặc đơn giản hơn\n",
        "$$βi ± t_{n-r-1}(α/2)\\sqrt{(s^2(Z'Z)^{−1})_{(i+1)(i+1)}}$$"
      ],
      "metadata": {
        "id": "VOFRcQQ29Wb5"
      }
    },
    {
      "cell_type": "code",
      "source": [
        "from scipy.stats import f, t\n",
        "def estimateBetaInterval(model, alpha):\n",
        "    n = int(model.df_model + model.df_resid + 1)\n",
        "    r = int(model.df_model)\n",
        "    Z = np.asmatrix(X_train[curr_preds].copy()).reshape(n, r + 1)\n",
        "    Y = np.asmatrix(y_train.copy()).reshape(n, 1)\n",
        "    B = np.linalg.inv((Z.T).dot(Z)).dot(Z.T).dot(Y)\n",
        "    Eps = Y - Z.dot(B)\n",
        "    s2 = Eps.T.dot(Eps)/(n - r - 1)         # s^2\n",
        "    ZTZ1 = np.linalg.inv(Z.T.dot(Z))        # (Z'Z)^{-1}\n",
        "    pf = f.ppf(1 - alpha, r + 1, n - r - 1) # F_{r+1,n-r-1}(alpha) upper quantile\n",
        "    pt = t.ppf(1 - alpha/2, n - r - 1)      # Student \n",
        "\n",
        "    print(\"beta =  beta_i ±         = [     Fisher    ] / [    Student    ]\")\n",
        "    print(\"________________________________________________________________\")\n",
        "    for i in range(r + 1):\n",
        "        Bi = np.asscalar(B[i])\n",
        "        deltaBi = np.asscalar(np.sqrt(np.asscalar(ZTZ1[i,i])*(r+1)*pf*s2))\n",
        "        deltaBit = pt*np.asscalar(np.sqrt(np.asscalar(ZTZ1[i,i])*s2))\n",
        "        print(f\"b_{i:2d} = {Bi:7.4f} ± {deltaBi:7.4f} = [{Bi - deltaBi:7.4f};{Bi + deltaBi:7.4f}] / [{Bi - deltaBit:7.4f};{Bi + deltaBit:7.4f}]\")"
      ],
      "metadata": {
        "id": "quvTdaFa3TDi"
      },
      "execution_count": null,
      "outputs": []
    },
    {
      "cell_type": "code",
      "source": [
        "estimateBetaInterval(lm_1, 0.05)"
      ],
      "metadata": {
        "colab": {
          "base_uri": "https://localhost:8080/"
        },
        "id": "7Vss-xdf6OXW",
        "outputId": "1aa1b373-2f1c-49db-d918-b76692d3598d"
      },
      "execution_count": null,
      "outputs": [
        {
          "output_type": "stream",
          "name": "stdout",
          "text": [
            "beta =  beta_i ±         = [     Fisher    ] / [    Student    ]\n",
            "________________________________________________________________\n",
            "b_ 0 = -0.4623 ±  0.3514 = [-0.8137;-0.1109] / [-0.6168;-0.3078]\n",
            "b_ 1 =  0.2863 ±  0.1535 = [ 0.1329; 0.4398] / [ 0.2188; 0.3538]\n",
            "b_ 2 =  0.2328 ±  0.1434 = [ 0.0894; 0.3761] / [ 0.1697; 0.2958]\n",
            "b_ 3 =  0.1900 ±  0.1646 = [ 0.0255; 0.3546] / [ 0.1177; 0.2624]\n",
            "b_ 4 = -0.2331 ±  0.2495 = [-0.4826; 0.0164] / [-0.3428;-0.1234]\n",
            "b_ 5 =  0.2672 ±  0.2937 = [-0.0265; 0.5608] / [ 0.1380; 0.3963]\n",
            "b_ 6 =  0.2638 ±  0.3296 = [-0.0658; 0.5934] / [ 0.1188; 0.4087]\n",
            "b_ 7 =  0.2572 ±  0.2800 = [-0.0228; 0.5372] / [ 0.1341; 0.3803]\n",
            "b_ 8 =  0.2031 ±  0.2521 = [-0.0490; 0.4551] / [ 0.0922; 0.3139]\n",
            "b_ 9 =  0.4336 ±  0.6610 = [-0.2274; 1.0945] / [ 0.1429; 0.7242]\n",
            "b_10 =  0.0587 ±  0.1344 = [-0.0757; 0.1932] / [-0.0004; 0.1179]\n"
          ]
        }
      ]
    },
    {
      "cell_type": "markdown",
      "metadata": {
        "id": "QipP4p0o0qBO"
      },
      "source": [
        "# 5. Dự báo quan sát mới"
      ]
    },
    {
      "cell_type": "markdown",
      "source": [
        "### 5.1 Chạy với tập kiểm tra"
      ],
      "metadata": {
        "id": "2IQEDTOGex8Q"
      }
    },
    {
      "cell_type": "code",
      "execution_count": null,
      "metadata": {
        "id": "a-LyHUNiR9xw"
      },
      "outputs": [],
      "source": [
        "df_test[num_vars] = scaler.fit_transform(df_test[num_vars])\n",
        "df_test = df_test.dropna()\n",
        "y_test = df_test.pop('price')\n",
        "X_test = df_test"
      ]
    },
    {
      "cell_type": "code",
      "execution_count": null,
      "metadata": {
        "id": "esOfhIdeSV6p"
      },
      "outputs": [],
      "source": [
        "X_test = sm.add_constant(X_test)\n",
        "X_test = X_test[curr_preds]"
      ]
    },
    {
      "cell_type": "code",
      "execution_count": null,
      "metadata": {
        "colab": {
          "base_uri": "https://localhost:8080/",
          "height": 206
        },
        "id": "JQQ-1xnbTNuf",
        "outputId": "4f18eb3e-122a-47f6-83a6-8c5cd00f77c3"
      },
      "outputs": [
        {
          "output_type": "execute_result",
          "data": {
            "text/plain": [
              "     const      area  bathrooms   stories  unfurnished  prefarea  mainroad  \\\n",
              "265    1.0 -0.978244  -0.565752  0.236370            0         1         1   \n",
              "54     1.0  0.321253   1.218544  0.236370            0         0         1   \n",
              "171    1.0  2.099313  -0.565752 -0.975026            0         1         1   \n",
              "244    1.0  0.038029  -0.565752  0.236370            0         1         1   \n",
              "268    1.0 -0.116078  -0.565752  0.236370            0         0         1   \n",
              "\n",
              "     airconditioning  basement  hotwaterheating   parking  \n",
              "265                0         0                0 -0.711709  \n",
              "54                 1         0                0  0.443937  \n",
              "171                0         0                0  0.443937  \n",
              "244                0         1                0 -0.711709  \n",
              "268                1         0                0 -0.711709  "
            ],
            "text/html": [
              "\n",
              "  <div id=\"df-3a0f7415-3f3e-44c1-85af-705a24cbfc4c\">\n",
              "    <div class=\"colab-df-container\">\n",
              "      <div>\n",
              "<style scoped>\n",
              "    .dataframe tbody tr th:only-of-type {\n",
              "        vertical-align: middle;\n",
              "    }\n",
              "\n",
              "    .dataframe tbody tr th {\n",
              "        vertical-align: top;\n",
              "    }\n",
              "\n",
              "    .dataframe thead th {\n",
              "        text-align: right;\n",
              "    }\n",
              "</style>\n",
              "<table border=\"1\" class=\"dataframe\">\n",
              "  <thead>\n",
              "    <tr style=\"text-align: right;\">\n",
              "      <th></th>\n",
              "      <th>const</th>\n",
              "      <th>area</th>\n",
              "      <th>bathrooms</th>\n",
              "      <th>stories</th>\n",
              "      <th>unfurnished</th>\n",
              "      <th>prefarea</th>\n",
              "      <th>mainroad</th>\n",
              "      <th>airconditioning</th>\n",
              "      <th>basement</th>\n",
              "      <th>hotwaterheating</th>\n",
              "      <th>parking</th>\n",
              "    </tr>\n",
              "  </thead>\n",
              "  <tbody>\n",
              "    <tr>\n",
              "      <th>265</th>\n",
              "      <td>1.0</td>\n",
              "      <td>-0.978244</td>\n",
              "      <td>-0.565752</td>\n",
              "      <td>0.236370</td>\n",
              "      <td>0</td>\n",
              "      <td>1</td>\n",
              "      <td>1</td>\n",
              "      <td>0</td>\n",
              "      <td>0</td>\n",
              "      <td>0</td>\n",
              "      <td>-0.711709</td>\n",
              "    </tr>\n",
              "    <tr>\n",
              "      <th>54</th>\n",
              "      <td>1.0</td>\n",
              "      <td>0.321253</td>\n",
              "      <td>1.218544</td>\n",
              "      <td>0.236370</td>\n",
              "      <td>0</td>\n",
              "      <td>0</td>\n",
              "      <td>1</td>\n",
              "      <td>1</td>\n",
              "      <td>0</td>\n",
              "      <td>0</td>\n",
              "      <td>0.443937</td>\n",
              "    </tr>\n",
              "    <tr>\n",
              "      <th>171</th>\n",
              "      <td>1.0</td>\n",
              "      <td>2.099313</td>\n",
              "      <td>-0.565752</td>\n",
              "      <td>-0.975026</td>\n",
              "      <td>0</td>\n",
              "      <td>1</td>\n",
              "      <td>1</td>\n",
              "      <td>0</td>\n",
              "      <td>0</td>\n",
              "      <td>0</td>\n",
              "      <td>0.443937</td>\n",
              "    </tr>\n",
              "    <tr>\n",
              "      <th>244</th>\n",
              "      <td>1.0</td>\n",
              "      <td>0.038029</td>\n",
              "      <td>-0.565752</td>\n",
              "      <td>0.236370</td>\n",
              "      <td>0</td>\n",
              "      <td>1</td>\n",
              "      <td>1</td>\n",
              "      <td>0</td>\n",
              "      <td>1</td>\n",
              "      <td>0</td>\n",
              "      <td>-0.711709</td>\n",
              "    </tr>\n",
              "    <tr>\n",
              "      <th>268</th>\n",
              "      <td>1.0</td>\n",
              "      <td>-0.116078</td>\n",
              "      <td>-0.565752</td>\n",
              "      <td>0.236370</td>\n",
              "      <td>0</td>\n",
              "      <td>0</td>\n",
              "      <td>1</td>\n",
              "      <td>1</td>\n",
              "      <td>0</td>\n",
              "      <td>0</td>\n",
              "      <td>-0.711709</td>\n",
              "    </tr>\n",
              "  </tbody>\n",
              "</table>\n",
              "</div>\n",
              "      <button class=\"colab-df-convert\" onclick=\"convertToInteractive('df-3a0f7415-3f3e-44c1-85af-705a24cbfc4c')\"\n",
              "              title=\"Convert this dataframe to an interactive table.\"\n",
              "              style=\"display:none;\">\n",
              "        \n",
              "  <svg xmlns=\"http://www.w3.org/2000/svg\" height=\"24px\"viewBox=\"0 0 24 24\"\n",
              "       width=\"24px\">\n",
              "    <path d=\"M0 0h24v24H0V0z\" fill=\"none\"/>\n",
              "    <path d=\"M18.56 5.44l.94 2.06.94-2.06 2.06-.94-2.06-.94-.94-2.06-.94 2.06-2.06.94zm-11 1L8.5 8.5l.94-2.06 2.06-.94-2.06-.94L8.5 2.5l-.94 2.06-2.06.94zm10 10l.94 2.06.94-2.06 2.06-.94-2.06-.94-.94-2.06-.94 2.06-2.06.94z\"/><path d=\"M17.41 7.96l-1.37-1.37c-.4-.4-.92-.59-1.43-.59-.52 0-1.04.2-1.43.59L10.3 9.45l-7.72 7.72c-.78.78-.78 2.05 0 2.83L4 21.41c.39.39.9.59 1.41.59.51 0 1.02-.2 1.41-.59l7.78-7.78 2.81-2.81c.8-.78.8-2.07 0-2.86zM5.41 20L4 18.59l7.72-7.72 1.47 1.35L5.41 20z\"/>\n",
              "  </svg>\n",
              "      </button>\n",
              "      \n",
              "  <style>\n",
              "    .colab-df-container {\n",
              "      display:flex;\n",
              "      flex-wrap:wrap;\n",
              "      gap: 12px;\n",
              "    }\n",
              "\n",
              "    .colab-df-convert {\n",
              "      background-color: #E8F0FE;\n",
              "      border: none;\n",
              "      border-radius: 50%;\n",
              "      cursor: pointer;\n",
              "      display: none;\n",
              "      fill: #1967D2;\n",
              "      height: 32px;\n",
              "      padding: 0 0 0 0;\n",
              "      width: 32px;\n",
              "    }\n",
              "\n",
              "    .colab-df-convert:hover {\n",
              "      background-color: #E2EBFA;\n",
              "      box-shadow: 0px 1px 2px rgba(60, 64, 67, 0.3), 0px 1px 3px 1px rgba(60, 64, 67, 0.15);\n",
              "      fill: #174EA6;\n",
              "    }\n",
              "\n",
              "    [theme=dark] .colab-df-convert {\n",
              "      background-color: #3B4455;\n",
              "      fill: #D2E3FC;\n",
              "    }\n",
              "\n",
              "    [theme=dark] .colab-df-convert:hover {\n",
              "      background-color: #434B5C;\n",
              "      box-shadow: 0px 1px 3px 1px rgba(0, 0, 0, 0.15);\n",
              "      filter: drop-shadow(0px 1px 2px rgba(0, 0, 0, 0.3));\n",
              "      fill: #FFFFFF;\n",
              "    }\n",
              "  </style>\n",
              "\n",
              "      <script>\n",
              "        const buttonEl =\n",
              "          document.querySelector('#df-3a0f7415-3f3e-44c1-85af-705a24cbfc4c button.colab-df-convert');\n",
              "        buttonEl.style.display =\n",
              "          google.colab.kernel.accessAllowed ? 'block' : 'none';\n",
              "\n",
              "        async function convertToInteractive(key) {\n",
              "          const element = document.querySelector('#df-3a0f7415-3f3e-44c1-85af-705a24cbfc4c');\n",
              "          const dataTable =\n",
              "            await google.colab.kernel.invokeFunction('convertToInteractive',\n",
              "                                                     [key], {});\n",
              "          if (!dataTable) return;\n",
              "\n",
              "          const docLinkHtml = 'Like what you see? Visit the ' +\n",
              "            '<a target=\"_blank\" href=https://colab.research.google.com/notebooks/data_table.ipynb>data table notebook</a>'\n",
              "            + ' to learn more about interactive tables.';\n",
              "          element.innerHTML = '';\n",
              "          dataTable['output_type'] = 'display_data';\n",
              "          await google.colab.output.renderOutput(dataTable, element);\n",
              "          const docLink = document.createElement('div');\n",
              "          docLink.innerHTML = docLinkHtml;\n",
              "          element.appendChild(docLink);\n",
              "        }\n",
              "      </script>\n",
              "    </div>\n",
              "  </div>\n",
              "  "
            ]
          },
          "metadata": {},
          "execution_count": 33
        }
      ],
      "source": [
        "X_test.head()"
      ]
    },
    {
      "cell_type": "code",
      "execution_count": null,
      "metadata": {
        "id": "GY87i88pT5E2"
      },
      "outputs": [],
      "source": [
        "y_pred = lm_1.predict(X_test)\n",
        "error_term = (y_test - y_pred)"
      ]
    },
    {
      "cell_type": "code",
      "execution_count": null,
      "metadata": {
        "colab": {
          "base_uri": "https://localhost:8080/",
          "height": 316
        },
        "id": "aQfVvQngUR8p",
        "outputId": "8a2bde38-cd85-499f-9696-c2726fd172d1"
      },
      "outputs": [
        {
          "output_type": "display_data",
          "data": {
            "text/plain": [
              "<Figure size 432x288 with 1 Axes>"
            ],
            "image/png": "[encoded data removed]"
          },
          "metadata": {
            "needs_background": "light"
          }
        }
      ],
      "source": [
        "fig = plt.figure()\n",
        "plt.grid()\n",
        "sns.histplot(error_term, bins = 20, kde=True, stat=\"density\")\n",
        "fig.suptitle('Error Terms', fontsize = 20)                  # Plot heading \n",
        "plt.xlabel('Errors', fontsize = 18)                         # X-label\n",
        "plt.show()"
      ]
    },
    {
      "cell_type": "markdown",
      "source": [
        "### 5.2 Hệ số xác định"
      ],
      "metadata": {
        "id": "0wUzmDXZe1ri"
      }
    },
    {
      "cell_type": "code",
      "execution_count": null,
      "metadata": {
        "colab": {
          "base_uri": "https://localhost:8080/"
        },
        "id": "6GQiTHuJVaj2",
        "outputId": "9e3b95ec-8f6b-48dc-80f0-83f7324d0353"
      },
      "outputs": [
        {
          "output_type": "execute_result",
          "data": {
            "text/plain": [
              "0.6088387348437772"
            ]
          },
          "metadata": {},
          "execution_count": 36
        }
      ],
      "source": [
        "lm_1.rsquared_adj"
      ]
    },
    {
      "cell_type": "code",
      "execution_count": null,
      "metadata": {
        "colab": {
          "base_uri": "https://localhost:8080/",
          "height": 316
        },
        "id": "ijcMJM-_b9My",
        "outputId": "b4cad6c7-35f5-45bd-deae-0af3e7f757ad"
      },
      "outputs": [
        {
          "output_type": "display_data",
          "data": {
            "text/plain": [
              "<Figure size 432x288 with 1 Axes>"
            ],
            "image/png": "[encoded data removed]"
          },
          "metadata": {
            "needs_background": "light"
          }
        }
      ],
      "source": [
        "plt.rcParams['text.usetex'] = False\n",
        "# Plotting y_test and y_pred to understand the spread.\n",
        "fig = plt.figure()\n",
        "sns.regplot(y_test, y_pred, fit_reg=True)\n",
        "fig.suptitle(r'y_{test} vs y_{pred}', fontsize=20)              \n",
        "plt.xlabel('y_{test}', fontsize=18)                          \n",
        "plt.ylabel('y_{pred}', fontsize=16)\n",
        "plt.show()"
      ]
    },
    {
      "cell_type": "code",
      "execution_count": null,
      "metadata": {
        "colab": {
          "base_uri": "https://localhost:8080/",
          "height": 295
        },
        "id": "9UrDa0UojbyO",
        "outputId": "c7ce289c-26ca-4107-96e6-88b833909e05"
      },
      "outputs": [
        {
          "output_type": "display_data",
          "data": {
            "text/plain": [
              "<Figure size 432x288 with 1 Axes>"
            ],
            "image/png": "[encoded data removed]"
          },
          "metadata": {
            "needs_background": "light"
          }
        }
      ],
      "source": [
        "# Q-Q plot\n",
        "scipy.stats.probplot(error_term, dist=\"norm\", plot=pylab)\n",
        "pylab.show()"
      ]
    },
    {
      "cell_type": "markdown",
      "metadata": {
        "id": "Y3v1rem717FA"
      },
      "source": [
        "### 5.3 Các hệ số của mô hình ban đầu"
      ]
    },
    {
      "cell_type": "code",
      "source": [
        "lm_1.params"
      ],
      "metadata": {
        "colab": {
          "base_uri": "https://localhost:8080/"
        },
        "id": "X3h3z7offC-5",
        "outputId": "004bf0a6-bc33-4a93-b05a-e51d26aaac36"
      },
      "execution_count": null,
      "outputs": [
        {
          "output_type": "execute_result",
          "data": {
            "text/plain": [
              "const             -0.462298\n",
              "area               0.286316\n",
              "bathrooms          0.232754\n",
              "stories            0.190037\n",
              "unfurnished       -0.233116\n",
              "prefarea           0.267150\n",
              "mainroad           0.263782\n",
              "airconditioning    0.257191\n",
              "basement           0.203075\n",
              "hotwaterheating    0.433554\n",
              "parking            0.058746\n",
              "dtype: float64"
            ]
          },
          "metadata": {},
          "execution_count": 39
        }
      ]
    }
  ],
  "metadata": {
    "colab": {
      "collapsed_sections": [
        "JSGClbekyseO",
        "0OM2wYcGlrFY",
        "Y_u6ECz5mjbN"
      ],
      "provenance": []
    },
    "kernelspec": {
      "display_name": "Python 3",
      "name": "python3"
    },
    "language_info": {
      "name": "python"
    }
  },
  "nbformat": 4,
  "nbformat_minor": 0
}